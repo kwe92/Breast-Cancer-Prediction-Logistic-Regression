{
 "cells": [
  {
   "cell_type": "code",
   "execution_count": 1,
   "id": "cdddbf7d",
   "metadata": {},
   "outputs": [],
   "source": [
    "import pandas as pd\n",
    "import numpy as np\n",
    "import sklearn\n",
    "import seaborn as sns\n",
    "import matplotlib.pyplot as plt\n",
    "import statsmodels.api as sm\n",
    "from sklearn.linear_model import LogisticRegression\n",
    "from sklearn.ensemble import RandomForestClassifier\n",
    "from sklearn.model_selection import train_test_split\n",
    "from sklearn.naive_bayes import GaussianNB, BernoulliNB\n",
    "from sklearn.preprocessing import StandardScaler\n",
    "from sklearn.svm import SVC\n",
    "from sklearn.metrics import confusion_matrix, accuracy_score\n",
    "from sklearn.model_selection import cross_val_score\n",
    "from warnings import filterwarnings\n",
    "\n",
    "filterwarnings(action=\"ignore\")\n",
    "%matplotlib notebook"
   ]
  },
  {
   "cell_type": "code",
   "execution_count": 2,
   "id": "d89b9899",
   "metadata": {},
   "outputs": [],
   "source": [
    "class ClassificationSummary:\n",
    "    \n",
    "    def __init__(self, y_true: np.array ,y_pred: np.array):\n",
    "        \n",
    "        self.__y_true: array = y_true\n",
    "        self.__y_pred: array = y_pred\n",
    "        self.__confusion_matrix: np.ndarray\n",
    "        self.__sensitivity: float\n",
    "        self.__specificity: float\n",
    "        self.__accuracy: float\n",
    "        self.missclassification_error: float\n",
    "        self.__recall_score: float\n",
    "        self.__precision_score: float\n",
    "        self.__summary_data()\n",
    "    \n",
    "    @property\n",
    "    def y_true(self):\n",
    "        return self.__y_true\n",
    "    \n",
    "    @property\n",
    "    def y_pred(self):\n",
    "        return self.__y_pred\n",
    "    \n",
    "    @property\n",
    "    def confusion_matrix(self):\n",
    "        return self.__confusion_matrix\n",
    "    \n",
    "    @property\n",
    "    def sensitivity(self):\n",
    "        return self.__sensitivity\n",
    "    \n",
    "    @property\n",
    "    def specificity(self):\n",
    "        return self.__specificity\n",
    "    \n",
    "    @property\n",
    "    def accuracy(self):\n",
    "        return self.__accuracy\n",
    "\n",
    "    @property\n",
    "    def recall_score(self):\n",
    "        return self.__recall_score\n",
    "    \n",
    "    @property\n",
    "    def precision_score(self):\n",
    "        return self.__precision_score\n",
    "    \n",
    "    @property\n",
    "    def missclassification_error(self):\n",
    "        return self.__missclassification_error\n",
    "    \n",
    "    def __summary_data(self):\n",
    "        self.__confusion_matrix = sklearn.metrics.confusion_matrix(self.__y_true, self.__y_pred)\n",
    "        tn, fp, fn, tp = self.__confusion_matrix.ravel()\n",
    "        self.__sensitivity: float = tp / (tp + fn)\n",
    "        self.__specificity: float = tn / (tn + fp)\n",
    "        self.__accuracy: float = (tn + tp) / (tn + fp + fn + tp)\n",
    "        self.__missclassification_error: float = 1 - self.__accuracy\n",
    "        self.__recall_score = sklearn.metrics.recall_score(self.__y_true, self.__y_pred)\n",
    "        self.__precision_score = sklearn.metrics.precision_score(self.__y_true, self.__y_pred)\n",
    "            \n",
    "    def __repr__(self):\n",
    "\n",
    "        r2 = lambda x: round(x * 100,2)\n",
    "        \n",
    "        return(\n",
    "                \"Confusion Matrix:\\n{}\".format(self.__confusion_matrix)\n",
    "               +\"\\n\"\n",
    "               +\"Accuracy: {}%\".format(r2(self.__accuracy))\n",
    "               +\"\\n\"\n",
    "               +\"Missclassification Error: {}%\".format(r2(self.__missclassification_error))\n",
    "               +\"\\n\"\n",
    "               +\"Sensitivity: {}%\".format(r2(self.__sensitivity))\n",
    "               +\"\\n\"\n",
    "               +\"Specificity: {}%\".format(r2(self.__specificity))\n",
    "               +\"\\n\"\n",
    "               +\"Recall Score: {}%\".format(r2(self.__recall_score))\n",
    "               +\"\\n\"\n",
    "               +\"Precision Score: {}%\".format(r2(self.__precision_score))\n",
    "              )"
   ]
  },
  {
   "cell_type": "code",
   "execution_count": 3,
   "id": "13162b13",
   "metadata": {},
   "outputs": [],
   "source": [
    "# Adding Backwards ellimination to Logit\n",
    "\n",
    "class Logit2(sm.Logit):\n",
    "    \n",
    "    def __init__(self,y,X,sl=0.05):\n",
    "        super(Logit2, self).__init__(y,X,sl=0.05)\n",
    "        self.X = X\n",
    "        self.y = y\n",
    "        self.sl = sl\n",
    "        self.sigCols = str\n",
    "        \n",
    "    def backward_elimination(self):\n",
    "        \n",
    "        colList = self.X.columns\n",
    "    \n",
    "        while len(colList) > 0:\n",
    "            model = sm.Logit(self.y,self.X[colList])\n",
    "            result = model.fit()\n",
    "            largest_pvalue = round(result.pvalues,3).nlargest(1)\n",
    "            if largest_pvalue[0] < self.sl:\n",
    "                self.sigCols = colList\n",
    "                return result\n",
    "                break\n",
    "            else:\n",
    "                colList = colList.drop(largest_pvalue.index)"
   ]
  },
  {
   "cell_type": "code",
   "execution_count": 4,
   "id": "032db6d6",
   "metadata": {},
   "outputs": [],
   "source": [
    "r2 = lambda x: round(x * 100,2)"
   ]
  },
  {
   "cell_type": "code",
   "execution_count": 5,
   "id": "54b85ce9",
   "metadata": {},
   "outputs": [],
   "source": [
    "bc_df = pd.read_csv(\"breast_cancer.csv\")"
   ]
  },
  {
   "cell_type": "code",
   "execution_count": 6,
   "id": "c6889820",
   "metadata": {},
   "outputs": [
    {
     "name": "stdout",
     "output_type": "stream",
     "text": [
      "<class 'pandas.core.frame.DataFrame'>\n",
      "RangeIndex: 683 entries, 0 to 682\n",
      "Data columns (total 11 columns):\n",
      " #   Column                       Non-Null Count  Dtype\n",
      "---  ------                       --------------  -----\n",
      " 0   Sample code number           683 non-null    int64\n",
      " 1   Clump Thickness              683 non-null    int64\n",
      " 2   Uniformity of Cell Size      683 non-null    int64\n",
      " 3   Uniformity of Cell Shape     683 non-null    int64\n",
      " 4   Marginal Adhesion            683 non-null    int64\n",
      " 5   Single Epithelial Cell Size  683 non-null    int64\n",
      " 6   Bare Nuclei                  683 non-null    int64\n",
      " 7   Bland Chromatin              683 non-null    int64\n",
      " 8   Normal Nucleoli              683 non-null    int64\n",
      " 9   Mitoses                      683 non-null    int64\n",
      " 10  Class                        683 non-null    int64\n",
      "dtypes: int64(11)\n",
      "memory usage: 58.8 KB\n"
     ]
    }
   ],
   "source": [
    "bc_df.info()"
   ]
  },
  {
   "cell_type": "code",
   "execution_count": 7,
   "id": "d7d27763",
   "metadata": {},
   "outputs": [],
   "source": [
    "# Replace values 2,4 with boolean 0,1 values\n",
    "bc_df.Class.replace(to_replace=[2,4], value=[0,1], inplace=True)"
   ]
  },
  {
   "cell_type": "code",
   "execution_count": 8,
   "id": "deeef458",
   "metadata": {},
   "outputs": [],
   "source": [
    "# drop columns that provide no use\n",
    "bc_df.drop(columns=[\"Sample code number\"],inplace=True)"
   ]
  },
  {
   "cell_type": "code",
   "execution_count": 9,
   "id": "ef3ad846",
   "metadata": {},
   "outputs": [
    {
     "data": {
      "text/html": [
       "<div>\n",
       "<style scoped>\n",
       "    .dataframe tbody tr th:only-of-type {\n",
       "        vertical-align: middle;\n",
       "    }\n",
       "\n",
       "    .dataframe tbody tr th {\n",
       "        vertical-align: top;\n",
       "    }\n",
       "\n",
       "    .dataframe thead th {\n",
       "        text-align: right;\n",
       "    }\n",
       "</style>\n",
       "<table border=\"1\" class=\"dataframe\">\n",
       "  <thead>\n",
       "    <tr style=\"text-align: right;\">\n",
       "      <th></th>\n",
       "      <th>Clump Thickness</th>\n",
       "      <th>Uniformity of Cell Size</th>\n",
       "      <th>Uniformity of Cell Shape</th>\n",
       "      <th>Marginal Adhesion</th>\n",
       "      <th>Single Epithelial Cell Size</th>\n",
       "      <th>Bare Nuclei</th>\n",
       "      <th>Bland Chromatin</th>\n",
       "      <th>Normal Nucleoli</th>\n",
       "      <th>Mitoses</th>\n",
       "      <th>Class</th>\n",
       "    </tr>\n",
       "  </thead>\n",
       "  <tbody>\n",
       "    <tr>\n",
       "      <th>0</th>\n",
       "      <td>5</td>\n",
       "      <td>1</td>\n",
       "      <td>1</td>\n",
       "      <td>1</td>\n",
       "      <td>2</td>\n",
       "      <td>1</td>\n",
       "      <td>3</td>\n",
       "      <td>1</td>\n",
       "      <td>1</td>\n",
       "      <td>0</td>\n",
       "    </tr>\n",
       "    <tr>\n",
       "      <th>1</th>\n",
       "      <td>5</td>\n",
       "      <td>4</td>\n",
       "      <td>4</td>\n",
       "      <td>5</td>\n",
       "      <td>7</td>\n",
       "      <td>10</td>\n",
       "      <td>3</td>\n",
       "      <td>2</td>\n",
       "      <td>1</td>\n",
       "      <td>0</td>\n",
       "    </tr>\n",
       "    <tr>\n",
       "      <th>2</th>\n",
       "      <td>3</td>\n",
       "      <td>1</td>\n",
       "      <td>1</td>\n",
       "      <td>1</td>\n",
       "      <td>2</td>\n",
       "      <td>2</td>\n",
       "      <td>3</td>\n",
       "      <td>1</td>\n",
       "      <td>1</td>\n",
       "      <td>0</td>\n",
       "    </tr>\n",
       "    <tr>\n",
       "      <th>3</th>\n",
       "      <td>6</td>\n",
       "      <td>8</td>\n",
       "      <td>8</td>\n",
       "      <td>1</td>\n",
       "      <td>3</td>\n",
       "      <td>4</td>\n",
       "      <td>3</td>\n",
       "      <td>7</td>\n",
       "      <td>1</td>\n",
       "      <td>0</td>\n",
       "    </tr>\n",
       "    <tr>\n",
       "      <th>4</th>\n",
       "      <td>4</td>\n",
       "      <td>1</td>\n",
       "      <td>1</td>\n",
       "      <td>3</td>\n",
       "      <td>2</td>\n",
       "      <td>1</td>\n",
       "      <td>3</td>\n",
       "      <td>1</td>\n",
       "      <td>1</td>\n",
       "      <td>0</td>\n",
       "    </tr>\n",
       "  </tbody>\n",
       "</table>\n",
       "</div>"
      ],
      "text/plain": [
       "   Clump Thickness  Uniformity of Cell Size  Uniformity of Cell Shape  \\\n",
       "0                5                        1                         1   \n",
       "1                5                        4                         4   \n",
       "2                3                        1                         1   \n",
       "3                6                        8                         8   \n",
       "4                4                        1                         1   \n",
       "\n",
       "   Marginal Adhesion  Single Epithelial Cell Size  Bare Nuclei  \\\n",
       "0                  1                            2            1   \n",
       "1                  5                            7           10   \n",
       "2                  1                            2            2   \n",
       "3                  1                            3            4   \n",
       "4                  3                            2            1   \n",
       "\n",
       "   Bland Chromatin  Normal Nucleoli  Mitoses  Class  \n",
       "0                3                1        1      0  \n",
       "1                3                2        1      0  \n",
       "2                3                1        1      0  \n",
       "3                3                7        1      0  \n",
       "4                3                1        1      0  "
      ]
     },
     "execution_count": 9,
     "metadata": {},
     "output_type": "execute_result"
    }
   ],
   "source": [
    "bc_df.head()"
   ]
  },
  {
   "cell_type": "code",
   "execution_count": 10,
   "id": "62add3a6",
   "metadata": {
    "scrolled": false
   },
   "outputs": [
    {
     "data": {
      "application/javascript": [
       "/* Put everything inside the global mpl namespace */\n",
       "/* global mpl */\n",
       "window.mpl = {};\n",
       "\n",
       "mpl.get_websocket_type = function () {\n",
       "    if (typeof WebSocket !== 'undefined') {\n",
       "        return WebSocket;\n",
       "    } else if (typeof MozWebSocket !== 'undefined') {\n",
       "        return MozWebSocket;\n",
       "    } else {\n",
       "        alert(\n",
       "            'Your browser does not have WebSocket support. ' +\n",
       "                'Please try Chrome, Safari or Firefox ≥ 6. ' +\n",
       "                'Firefox 4 and 5 are also supported but you ' +\n",
       "                'have to enable WebSockets in about:config.'\n",
       "        );\n",
       "    }\n",
       "};\n",
       "\n",
       "mpl.figure = function (figure_id, websocket, ondownload, parent_element) {\n",
       "    this.id = figure_id;\n",
       "\n",
       "    this.ws = websocket;\n",
       "\n",
       "    this.supports_binary = this.ws.binaryType !== undefined;\n",
       "\n",
       "    if (!this.supports_binary) {\n",
       "        var warnings = document.getElementById('mpl-warnings');\n",
       "        if (warnings) {\n",
       "            warnings.style.display = 'block';\n",
       "            warnings.textContent =\n",
       "                'This browser does not support binary websocket messages. ' +\n",
       "                'Performance may be slow.';\n",
       "        }\n",
       "    }\n",
       "\n",
       "    this.imageObj = new Image();\n",
       "\n",
       "    this.context = undefined;\n",
       "    this.message = undefined;\n",
       "    this.canvas = undefined;\n",
       "    this.rubberband_canvas = undefined;\n",
       "    this.rubberband_context = undefined;\n",
       "    this.format_dropdown = undefined;\n",
       "\n",
       "    this.image_mode = 'full';\n",
       "\n",
       "    this.root = document.createElement('div');\n",
       "    this.root.setAttribute('style', 'display: inline-block');\n",
       "    this._root_extra_style(this.root);\n",
       "\n",
       "    parent_element.appendChild(this.root);\n",
       "\n",
       "    this._init_header(this);\n",
       "    this._init_canvas(this);\n",
       "    this._init_toolbar(this);\n",
       "\n",
       "    var fig = this;\n",
       "\n",
       "    this.waiting = false;\n",
       "\n",
       "    this.ws.onopen = function () {\n",
       "        fig.send_message('supports_binary', { value: fig.supports_binary });\n",
       "        fig.send_message('send_image_mode', {});\n",
       "        if (fig.ratio !== 1) {\n",
       "            fig.send_message('set_dpi_ratio', { dpi_ratio: fig.ratio });\n",
       "        }\n",
       "        fig.send_message('refresh', {});\n",
       "    };\n",
       "\n",
       "    this.imageObj.onload = function () {\n",
       "        if (fig.image_mode === 'full') {\n",
       "            // Full images could contain transparency (where diff images\n",
       "            // almost always do), so we need to clear the canvas so that\n",
       "            // there is no ghosting.\n",
       "            fig.context.clearRect(0, 0, fig.canvas.width, fig.canvas.height);\n",
       "        }\n",
       "        fig.context.drawImage(fig.imageObj, 0, 0);\n",
       "    };\n",
       "\n",
       "    this.imageObj.onunload = function () {\n",
       "        fig.ws.close();\n",
       "    };\n",
       "\n",
       "    this.ws.onmessage = this._make_on_message_function(this);\n",
       "\n",
       "    this.ondownload = ondownload;\n",
       "};\n",
       "\n",
       "mpl.figure.prototype._init_header = function () {\n",
       "    var titlebar = document.createElement('div');\n",
       "    titlebar.classList =\n",
       "        'ui-dialog-titlebar ui-widget-header ui-corner-all ui-helper-clearfix';\n",
       "    var titletext = document.createElement('div');\n",
       "    titletext.classList = 'ui-dialog-title';\n",
       "    titletext.setAttribute(\n",
       "        'style',\n",
       "        'width: 100%; text-align: center; padding: 3px;'\n",
       "    );\n",
       "    titlebar.appendChild(titletext);\n",
       "    this.root.appendChild(titlebar);\n",
       "    this.header = titletext;\n",
       "};\n",
       "\n",
       "mpl.figure.prototype._canvas_extra_style = function (_canvas_div) {};\n",
       "\n",
       "mpl.figure.prototype._root_extra_style = function (_canvas_div) {};\n",
       "\n",
       "mpl.figure.prototype._init_canvas = function () {\n",
       "    var fig = this;\n",
       "\n",
       "    var canvas_div = (this.canvas_div = document.createElement('div'));\n",
       "    canvas_div.setAttribute(\n",
       "        'style',\n",
       "        'border: 1px solid #ddd;' +\n",
       "            'box-sizing: content-box;' +\n",
       "            'clear: both;' +\n",
       "            'min-height: 1px;' +\n",
       "            'min-width: 1px;' +\n",
       "            'outline: 0;' +\n",
       "            'overflow: hidden;' +\n",
       "            'position: relative;' +\n",
       "            'resize: both;'\n",
       "    );\n",
       "\n",
       "    function on_keyboard_event_closure(name) {\n",
       "        return function (event) {\n",
       "            return fig.key_event(event, name);\n",
       "        };\n",
       "    }\n",
       "\n",
       "    canvas_div.addEventListener(\n",
       "        'keydown',\n",
       "        on_keyboard_event_closure('key_press')\n",
       "    );\n",
       "    canvas_div.addEventListener(\n",
       "        'keyup',\n",
       "        on_keyboard_event_closure('key_release')\n",
       "    );\n",
       "\n",
       "    this._canvas_extra_style(canvas_div);\n",
       "    this.root.appendChild(canvas_div);\n",
       "\n",
       "    var canvas = (this.canvas = document.createElement('canvas'));\n",
       "    canvas.classList.add('mpl-canvas');\n",
       "    canvas.setAttribute('style', 'box-sizing: content-box;');\n",
       "\n",
       "    this.context = canvas.getContext('2d');\n",
       "\n",
       "    var backingStore =\n",
       "        this.context.backingStorePixelRatio ||\n",
       "        this.context.webkitBackingStorePixelRatio ||\n",
       "        this.context.mozBackingStorePixelRatio ||\n",
       "        this.context.msBackingStorePixelRatio ||\n",
       "        this.context.oBackingStorePixelRatio ||\n",
       "        this.context.backingStorePixelRatio ||\n",
       "        1;\n",
       "\n",
       "    this.ratio = (window.devicePixelRatio || 1) / backingStore;\n",
       "\n",
       "    var rubberband_canvas = (this.rubberband_canvas = document.createElement(\n",
       "        'canvas'\n",
       "    ));\n",
       "    rubberband_canvas.setAttribute(\n",
       "        'style',\n",
       "        'box-sizing: content-box; position: absolute; left: 0; top: 0; z-index: 1;'\n",
       "    );\n",
       "\n",
       "    // Apply a ponyfill if ResizeObserver is not implemented by browser.\n",
       "    if (this.ResizeObserver === undefined) {\n",
       "        if (window.ResizeObserver !== undefined) {\n",
       "            this.ResizeObserver = window.ResizeObserver;\n",
       "        } else {\n",
       "            var obs = _JSXTOOLS_RESIZE_OBSERVER({});\n",
       "            this.ResizeObserver = obs.ResizeObserver;\n",
       "        }\n",
       "    }\n",
       "\n",
       "    this.resizeObserverInstance = new this.ResizeObserver(function (entries) {\n",
       "        var nentries = entries.length;\n",
       "        for (var i = 0; i < nentries; i++) {\n",
       "            var entry = entries[i];\n",
       "            var width, height;\n",
       "            if (entry.contentBoxSize) {\n",
       "                if (entry.contentBoxSize instanceof Array) {\n",
       "                    // Chrome 84 implements new version of spec.\n",
       "                    width = entry.contentBoxSize[0].inlineSize;\n",
       "                    height = entry.contentBoxSize[0].blockSize;\n",
       "                } else {\n",
       "                    // Firefox implements old version of spec.\n",
       "                    width = entry.contentBoxSize.inlineSize;\n",
       "                    height = entry.contentBoxSize.blockSize;\n",
       "                }\n",
       "            } else {\n",
       "                // Chrome <84 implements even older version of spec.\n",
       "                width = entry.contentRect.width;\n",
       "                height = entry.contentRect.height;\n",
       "            }\n",
       "\n",
       "            // Keep the size of the canvas and rubber band canvas in sync with\n",
       "            // the canvas container.\n",
       "            if (entry.devicePixelContentBoxSize) {\n",
       "                // Chrome 84 implements new version of spec.\n",
       "                canvas.setAttribute(\n",
       "                    'width',\n",
       "                    entry.devicePixelContentBoxSize[0].inlineSize\n",
       "                );\n",
       "                canvas.setAttribute(\n",
       "                    'height',\n",
       "                    entry.devicePixelContentBoxSize[0].blockSize\n",
       "                );\n",
       "            } else {\n",
       "                canvas.setAttribute('width', width * fig.ratio);\n",
       "                canvas.setAttribute('height', height * fig.ratio);\n",
       "            }\n",
       "            canvas.setAttribute(\n",
       "                'style',\n",
       "                'width: ' + width + 'px; height: ' + height + 'px;'\n",
       "            );\n",
       "\n",
       "            rubberband_canvas.setAttribute('width', width);\n",
       "            rubberband_canvas.setAttribute('height', height);\n",
       "\n",
       "            // And update the size in Python. We ignore the initial 0/0 size\n",
       "            // that occurs as the element is placed into the DOM, which should\n",
       "            // otherwise not happen due to the minimum size styling.\n",
       "            if (fig.ws.readyState == 1 && width != 0 && height != 0) {\n",
       "                fig.request_resize(width, height);\n",
       "            }\n",
       "        }\n",
       "    });\n",
       "    this.resizeObserverInstance.observe(canvas_div);\n",
       "\n",
       "    function on_mouse_event_closure(name) {\n",
       "        return function (event) {\n",
       "            return fig.mouse_event(event, name);\n",
       "        };\n",
       "    }\n",
       "\n",
       "    rubberband_canvas.addEventListener(\n",
       "        'mousedown',\n",
       "        on_mouse_event_closure('button_press')\n",
       "    );\n",
       "    rubberband_canvas.addEventListener(\n",
       "        'mouseup',\n",
       "        on_mouse_event_closure('button_release')\n",
       "    );\n",
       "    // Throttle sequential mouse events to 1 every 20ms.\n",
       "    rubberband_canvas.addEventListener(\n",
       "        'mousemove',\n",
       "        on_mouse_event_closure('motion_notify')\n",
       "    );\n",
       "\n",
       "    rubberband_canvas.addEventListener(\n",
       "        'mouseenter',\n",
       "        on_mouse_event_closure('figure_enter')\n",
       "    );\n",
       "    rubberband_canvas.addEventListener(\n",
       "        'mouseleave',\n",
       "        on_mouse_event_closure('figure_leave')\n",
       "    );\n",
       "\n",
       "    canvas_div.addEventListener('wheel', function (event) {\n",
       "        if (event.deltaY < 0) {\n",
       "            event.step = 1;\n",
       "        } else {\n",
       "            event.step = -1;\n",
       "        }\n",
       "        on_mouse_event_closure('scroll')(event);\n",
       "    });\n",
       "\n",
       "    canvas_div.appendChild(canvas);\n",
       "    canvas_div.appendChild(rubberband_canvas);\n",
       "\n",
       "    this.rubberband_context = rubberband_canvas.getContext('2d');\n",
       "    this.rubberband_context.strokeStyle = '#000000';\n",
       "\n",
       "    this._resize_canvas = function (width, height, forward) {\n",
       "        if (forward) {\n",
       "            canvas_div.style.width = width + 'px';\n",
       "            canvas_div.style.height = height + 'px';\n",
       "        }\n",
       "    };\n",
       "\n",
       "    // Disable right mouse context menu.\n",
       "    this.rubberband_canvas.addEventListener('contextmenu', function (_e) {\n",
       "        event.preventDefault();\n",
       "        return false;\n",
       "    });\n",
       "\n",
       "    function set_focus() {\n",
       "        canvas.focus();\n",
       "        canvas_div.focus();\n",
       "    }\n",
       "\n",
       "    window.setTimeout(set_focus, 100);\n",
       "};\n",
       "\n",
       "mpl.figure.prototype._init_toolbar = function () {\n",
       "    var fig = this;\n",
       "\n",
       "    var toolbar = document.createElement('div');\n",
       "    toolbar.classList = 'mpl-toolbar';\n",
       "    this.root.appendChild(toolbar);\n",
       "\n",
       "    function on_click_closure(name) {\n",
       "        return function (_event) {\n",
       "            return fig.toolbar_button_onclick(name);\n",
       "        };\n",
       "    }\n",
       "\n",
       "    function on_mouseover_closure(tooltip) {\n",
       "        return function (event) {\n",
       "            if (!event.currentTarget.disabled) {\n",
       "                return fig.toolbar_button_onmouseover(tooltip);\n",
       "            }\n",
       "        };\n",
       "    }\n",
       "\n",
       "    fig.buttons = {};\n",
       "    var buttonGroup = document.createElement('div');\n",
       "    buttonGroup.classList = 'mpl-button-group';\n",
       "    for (var toolbar_ind in mpl.toolbar_items) {\n",
       "        var name = mpl.toolbar_items[toolbar_ind][0];\n",
       "        var tooltip = mpl.toolbar_items[toolbar_ind][1];\n",
       "        var image = mpl.toolbar_items[toolbar_ind][2];\n",
       "        var method_name = mpl.toolbar_items[toolbar_ind][3];\n",
       "\n",
       "        if (!name) {\n",
       "            /* Instead of a spacer, we start a new button group. */\n",
       "            if (buttonGroup.hasChildNodes()) {\n",
       "                toolbar.appendChild(buttonGroup);\n",
       "            }\n",
       "            buttonGroup = document.createElement('div');\n",
       "            buttonGroup.classList = 'mpl-button-group';\n",
       "            continue;\n",
       "        }\n",
       "\n",
       "        var button = (fig.buttons[name] = document.createElement('button'));\n",
       "        button.classList = 'mpl-widget';\n",
       "        button.setAttribute('role', 'button');\n",
       "        button.setAttribute('aria-disabled', 'false');\n",
       "        button.addEventListener('click', on_click_closure(method_name));\n",
       "        button.addEventListener('mouseover', on_mouseover_closure(tooltip));\n",
       "\n",
       "        var icon_img = document.createElement('img');\n",
       "        icon_img.src = '_images/' + image + '.png';\n",
       "        icon_img.srcset = '_images/' + image + '_large.png 2x';\n",
       "        icon_img.alt = tooltip;\n",
       "        button.appendChild(icon_img);\n",
       "\n",
       "        buttonGroup.appendChild(button);\n",
       "    }\n",
       "\n",
       "    if (buttonGroup.hasChildNodes()) {\n",
       "        toolbar.appendChild(buttonGroup);\n",
       "    }\n",
       "\n",
       "    var fmt_picker = document.createElement('select');\n",
       "    fmt_picker.classList = 'mpl-widget';\n",
       "    toolbar.appendChild(fmt_picker);\n",
       "    this.format_dropdown = fmt_picker;\n",
       "\n",
       "    for (var ind in mpl.extensions) {\n",
       "        var fmt = mpl.extensions[ind];\n",
       "        var option = document.createElement('option');\n",
       "        option.selected = fmt === mpl.default_extension;\n",
       "        option.innerHTML = fmt;\n",
       "        fmt_picker.appendChild(option);\n",
       "    }\n",
       "\n",
       "    var status_bar = document.createElement('span');\n",
       "    status_bar.classList = 'mpl-message';\n",
       "    toolbar.appendChild(status_bar);\n",
       "    this.message = status_bar;\n",
       "};\n",
       "\n",
       "mpl.figure.prototype.request_resize = function (x_pixels, y_pixels) {\n",
       "    // Request matplotlib to resize the figure. Matplotlib will then trigger a resize in the client,\n",
       "    // which will in turn request a refresh of the image.\n",
       "    this.send_message('resize', { width: x_pixels, height: y_pixels });\n",
       "};\n",
       "\n",
       "mpl.figure.prototype.send_message = function (type, properties) {\n",
       "    properties['type'] = type;\n",
       "    properties['figure_id'] = this.id;\n",
       "    this.ws.send(JSON.stringify(properties));\n",
       "};\n",
       "\n",
       "mpl.figure.prototype.send_draw_message = function () {\n",
       "    if (!this.waiting) {\n",
       "        this.waiting = true;\n",
       "        this.ws.send(JSON.stringify({ type: 'draw', figure_id: this.id }));\n",
       "    }\n",
       "};\n",
       "\n",
       "mpl.figure.prototype.handle_save = function (fig, _msg) {\n",
       "    var format_dropdown = fig.format_dropdown;\n",
       "    var format = format_dropdown.options[format_dropdown.selectedIndex].value;\n",
       "    fig.ondownload(fig, format);\n",
       "};\n",
       "\n",
       "mpl.figure.prototype.handle_resize = function (fig, msg) {\n",
       "    var size = msg['size'];\n",
       "    if (size[0] !== fig.canvas.width || size[1] !== fig.canvas.height) {\n",
       "        fig._resize_canvas(size[0], size[1], msg['forward']);\n",
       "        fig.send_message('refresh', {});\n",
       "    }\n",
       "};\n",
       "\n",
       "mpl.figure.prototype.handle_rubberband = function (fig, msg) {\n",
       "    var x0 = msg['x0'] / fig.ratio;\n",
       "    var y0 = (fig.canvas.height - msg['y0']) / fig.ratio;\n",
       "    var x1 = msg['x1'] / fig.ratio;\n",
       "    var y1 = (fig.canvas.height - msg['y1']) / fig.ratio;\n",
       "    x0 = Math.floor(x0) + 0.5;\n",
       "    y0 = Math.floor(y0) + 0.5;\n",
       "    x1 = Math.floor(x1) + 0.5;\n",
       "    y1 = Math.floor(y1) + 0.5;\n",
       "    var min_x = Math.min(x0, x1);\n",
       "    var min_y = Math.min(y0, y1);\n",
       "    var width = Math.abs(x1 - x0);\n",
       "    var height = Math.abs(y1 - y0);\n",
       "\n",
       "    fig.rubberband_context.clearRect(\n",
       "        0,\n",
       "        0,\n",
       "        fig.canvas.width / fig.ratio,\n",
       "        fig.canvas.height / fig.ratio\n",
       "    );\n",
       "\n",
       "    fig.rubberband_context.strokeRect(min_x, min_y, width, height);\n",
       "};\n",
       "\n",
       "mpl.figure.prototype.handle_figure_label = function (fig, msg) {\n",
       "    // Updates the figure title.\n",
       "    fig.header.textContent = msg['label'];\n",
       "};\n",
       "\n",
       "mpl.figure.prototype.handle_cursor = function (fig, msg) {\n",
       "    var cursor = msg['cursor'];\n",
       "    switch (cursor) {\n",
       "        case 0:\n",
       "            cursor = 'pointer';\n",
       "            break;\n",
       "        case 1:\n",
       "            cursor = 'default';\n",
       "            break;\n",
       "        case 2:\n",
       "            cursor = 'crosshair';\n",
       "            break;\n",
       "        case 3:\n",
       "            cursor = 'move';\n",
       "            break;\n",
       "    }\n",
       "    fig.rubberband_canvas.style.cursor = cursor;\n",
       "};\n",
       "\n",
       "mpl.figure.prototype.handle_message = function (fig, msg) {\n",
       "    fig.message.textContent = msg['message'];\n",
       "};\n",
       "\n",
       "mpl.figure.prototype.handle_draw = function (fig, _msg) {\n",
       "    // Request the server to send over a new figure.\n",
       "    fig.send_draw_message();\n",
       "};\n",
       "\n",
       "mpl.figure.prototype.handle_image_mode = function (fig, msg) {\n",
       "    fig.image_mode = msg['mode'];\n",
       "};\n",
       "\n",
       "mpl.figure.prototype.handle_history_buttons = function (fig, msg) {\n",
       "    for (var key in msg) {\n",
       "        if (!(key in fig.buttons)) {\n",
       "            continue;\n",
       "        }\n",
       "        fig.buttons[key].disabled = !msg[key];\n",
       "        fig.buttons[key].setAttribute('aria-disabled', !msg[key]);\n",
       "    }\n",
       "};\n",
       "\n",
       "mpl.figure.prototype.handle_navigate_mode = function (fig, msg) {\n",
       "    if (msg['mode'] === 'PAN') {\n",
       "        fig.buttons['Pan'].classList.add('active');\n",
       "        fig.buttons['Zoom'].classList.remove('active');\n",
       "    } else if (msg['mode'] === 'ZOOM') {\n",
       "        fig.buttons['Pan'].classList.remove('active');\n",
       "        fig.buttons['Zoom'].classList.add('active');\n",
       "    } else {\n",
       "        fig.buttons['Pan'].classList.remove('active');\n",
       "        fig.buttons['Zoom'].classList.remove('active');\n",
       "    }\n",
       "};\n",
       "\n",
       "mpl.figure.prototype.updated_canvas_event = function () {\n",
       "    // Called whenever the canvas gets updated.\n",
       "    this.send_message('ack', {});\n",
       "};\n",
       "\n",
       "// A function to construct a web socket function for onmessage handling.\n",
       "// Called in the figure constructor.\n",
       "mpl.figure.prototype._make_on_message_function = function (fig) {\n",
       "    return function socket_on_message(evt) {\n",
       "        if (evt.data instanceof Blob) {\n",
       "            /* FIXME: We get \"Resource interpreted as Image but\n",
       "             * transferred with MIME type text/plain:\" errors on\n",
       "             * Chrome.  But how to set the MIME type?  It doesn't seem\n",
       "             * to be part of the websocket stream */\n",
       "            evt.data.type = 'image/png';\n",
       "\n",
       "            /* Free the memory for the previous frames */\n",
       "            if (fig.imageObj.src) {\n",
       "                (window.URL || window.webkitURL).revokeObjectURL(\n",
       "                    fig.imageObj.src\n",
       "                );\n",
       "            }\n",
       "\n",
       "            fig.imageObj.src = (window.URL || window.webkitURL).createObjectURL(\n",
       "                evt.data\n",
       "            );\n",
       "            fig.updated_canvas_event();\n",
       "            fig.waiting = false;\n",
       "            return;\n",
       "        } else if (\n",
       "            typeof evt.data === 'string' &&\n",
       "            evt.data.slice(0, 21) === 'data:image/png;base64'\n",
       "        ) {\n",
       "            fig.imageObj.src = evt.data;\n",
       "            fig.updated_canvas_event();\n",
       "            fig.waiting = false;\n",
       "            return;\n",
       "        }\n",
       "\n",
       "        var msg = JSON.parse(evt.data);\n",
       "        var msg_type = msg['type'];\n",
       "\n",
       "        // Call the  \"handle_{type}\" callback, which takes\n",
       "        // the figure and JSON message as its only arguments.\n",
       "        try {\n",
       "            var callback = fig['handle_' + msg_type];\n",
       "        } catch (e) {\n",
       "            console.log(\n",
       "                \"No handler for the '\" + msg_type + \"' message type: \",\n",
       "                msg\n",
       "            );\n",
       "            return;\n",
       "        }\n",
       "\n",
       "        if (callback) {\n",
       "            try {\n",
       "                // console.log(\"Handling '\" + msg_type + \"' message: \", msg);\n",
       "                callback(fig, msg);\n",
       "            } catch (e) {\n",
       "                console.log(\n",
       "                    \"Exception inside the 'handler_\" + msg_type + \"' callback:\",\n",
       "                    e,\n",
       "                    e.stack,\n",
       "                    msg\n",
       "                );\n",
       "            }\n",
       "        }\n",
       "    };\n",
       "};\n",
       "\n",
       "// from http://stackoverflow.com/questions/1114465/getting-mouse-location-in-canvas\n",
       "mpl.findpos = function (e) {\n",
       "    //this section is from http://www.quirksmode.org/js/events_properties.html\n",
       "    var targ;\n",
       "    if (!e) {\n",
       "        e = window.event;\n",
       "    }\n",
       "    if (e.target) {\n",
       "        targ = e.target;\n",
       "    } else if (e.srcElement) {\n",
       "        targ = e.srcElement;\n",
       "    }\n",
       "    if (targ.nodeType === 3) {\n",
       "        // defeat Safari bug\n",
       "        targ = targ.parentNode;\n",
       "    }\n",
       "\n",
       "    // pageX,Y are the mouse positions relative to the document\n",
       "    var boundingRect = targ.getBoundingClientRect();\n",
       "    var x = e.pageX - (boundingRect.left + document.body.scrollLeft);\n",
       "    var y = e.pageY - (boundingRect.top + document.body.scrollTop);\n",
       "\n",
       "    return { x: x, y: y };\n",
       "};\n",
       "\n",
       "/*\n",
       " * return a copy of an object with only non-object keys\n",
       " * we need this to avoid circular references\n",
       " * http://stackoverflow.com/a/24161582/3208463\n",
       " */\n",
       "function simpleKeys(original) {\n",
       "    return Object.keys(original).reduce(function (obj, key) {\n",
       "        if (typeof original[key] !== 'object') {\n",
       "            obj[key] = original[key];\n",
       "        }\n",
       "        return obj;\n",
       "    }, {});\n",
       "}\n",
       "\n",
       "mpl.figure.prototype.mouse_event = function (event, name) {\n",
       "    var canvas_pos = mpl.findpos(event);\n",
       "\n",
       "    if (name === 'button_press') {\n",
       "        this.canvas.focus();\n",
       "        this.canvas_div.focus();\n",
       "    }\n",
       "\n",
       "    var x = canvas_pos.x * this.ratio;\n",
       "    var y = canvas_pos.y * this.ratio;\n",
       "\n",
       "    this.send_message(name, {\n",
       "        x: x,\n",
       "        y: y,\n",
       "        button: event.button,\n",
       "        step: event.step,\n",
       "        guiEvent: simpleKeys(event),\n",
       "    });\n",
       "\n",
       "    /* This prevents the web browser from automatically changing to\n",
       "     * the text insertion cursor when the button is pressed.  We want\n",
       "     * to control all of the cursor setting manually through the\n",
       "     * 'cursor' event from matplotlib */\n",
       "    event.preventDefault();\n",
       "    return false;\n",
       "};\n",
       "\n",
       "mpl.figure.prototype._key_event_extra = function (_event, _name) {\n",
       "    // Handle any extra behaviour associated with a key event\n",
       "};\n",
       "\n",
       "mpl.figure.prototype.key_event = function (event, name) {\n",
       "    // Prevent repeat events\n",
       "    if (name === 'key_press') {\n",
       "        if (event.which === this._key) {\n",
       "            return;\n",
       "        } else {\n",
       "            this._key = event.which;\n",
       "        }\n",
       "    }\n",
       "    if (name === 'key_release') {\n",
       "        this._key = null;\n",
       "    }\n",
       "\n",
       "    var value = '';\n",
       "    if (event.ctrlKey && event.which !== 17) {\n",
       "        value += 'ctrl+';\n",
       "    }\n",
       "    if (event.altKey && event.which !== 18) {\n",
       "        value += 'alt+';\n",
       "    }\n",
       "    if (event.shiftKey && event.which !== 16) {\n",
       "        value += 'shift+';\n",
       "    }\n",
       "\n",
       "    value += 'k';\n",
       "    value += event.which.toString();\n",
       "\n",
       "    this._key_event_extra(event, name);\n",
       "\n",
       "    this.send_message(name, { key: value, guiEvent: simpleKeys(event) });\n",
       "    return false;\n",
       "};\n",
       "\n",
       "mpl.figure.prototype.toolbar_button_onclick = function (name) {\n",
       "    if (name === 'download') {\n",
       "        this.handle_save(this, null);\n",
       "    } else {\n",
       "        this.send_message('toolbar_button', { name: name });\n",
       "    }\n",
       "};\n",
       "\n",
       "mpl.figure.prototype.toolbar_button_onmouseover = function (tooltip) {\n",
       "    this.message.textContent = tooltip;\n",
       "};\n",
       "\n",
       "///////////////// REMAINING CONTENT GENERATED BY embed_js.py /////////////////\n",
       "// prettier-ignore\n",
       "var _JSXTOOLS_RESIZE_OBSERVER=function(A){var t,i=new WeakMap,n=new WeakMap,a=new WeakMap,r=new WeakMap,o=new Set;function s(e){if(!(this instanceof s))throw new TypeError(\"Constructor requires 'new' operator\");i.set(this,e)}function h(){throw new TypeError(\"Function is not a constructor\")}function c(e,t,i,n){e=0 in arguments?Number(arguments[0]):0,t=1 in arguments?Number(arguments[1]):0,i=2 in arguments?Number(arguments[2]):0,n=3 in arguments?Number(arguments[3]):0,this.right=(this.x=this.left=e)+(this.width=i),this.bottom=(this.y=this.top=t)+(this.height=n),Object.freeze(this)}function d(){t=requestAnimationFrame(d);var s=new WeakMap,p=new Set;o.forEach((function(t){r.get(t).forEach((function(i){var r=t instanceof window.SVGElement,o=a.get(t),d=r?0:parseFloat(o.paddingTop),f=r?0:parseFloat(o.paddingRight),l=r?0:parseFloat(o.paddingBottom),u=r?0:parseFloat(o.paddingLeft),g=r?0:parseFloat(o.borderTopWidth),m=r?0:parseFloat(o.borderRightWidth),w=r?0:parseFloat(o.borderBottomWidth),b=u+f,F=d+l,v=(r?0:parseFloat(o.borderLeftWidth))+m,W=g+w,y=r?0:t.offsetHeight-W-t.clientHeight,E=r?0:t.offsetWidth-v-t.clientWidth,R=b+v,z=F+W,M=r?t.width:parseFloat(o.width)-R-E,O=r?t.height:parseFloat(o.height)-z-y;if(n.has(t)){var k=n.get(t);if(k[0]===M&&k[1]===O)return}n.set(t,[M,O]);var S=Object.create(h.prototype);S.target=t,S.contentRect=new c(u,d,M,O),s.has(i)||(s.set(i,[]),p.add(i)),s.get(i).push(S)}))})),p.forEach((function(e){i.get(e).call(e,s.get(e),e)}))}return s.prototype.observe=function(i){if(i instanceof window.Element){r.has(i)||(r.set(i,new Set),o.add(i),a.set(i,window.getComputedStyle(i)));var n=r.get(i);n.has(this)||n.add(this),cancelAnimationFrame(t),t=requestAnimationFrame(d)}},s.prototype.unobserve=function(i){if(i instanceof window.Element&&r.has(i)){var n=r.get(i);n.has(this)&&(n.delete(this),n.size||(r.delete(i),o.delete(i))),n.size||r.delete(i),o.size||cancelAnimationFrame(t)}},A.DOMRectReadOnly=c,A.ResizeObserver=s,A.ResizeObserverEntry=h,A}; // eslint-disable-line\n",
       "mpl.toolbar_items = [[\"Home\", \"Reset original view\", \"fa fa-home icon-home\", \"home\"], [\"Back\", \"Back to previous view\", \"fa fa-arrow-left icon-arrow-left\", \"back\"], [\"Forward\", \"Forward to next view\", \"fa fa-arrow-right icon-arrow-right\", \"forward\"], [\"\", \"\", \"\", \"\"], [\"Pan\", \"Left button pans, Right button zooms\\nx/y fixes axis, CTRL fixes aspect\", \"fa fa-arrows icon-move\", \"pan\"], [\"Zoom\", \"Zoom to rectangle\\nx/y fixes axis, CTRL fixes aspect\", \"fa fa-square-o icon-check-empty\", \"zoom\"], [\"\", \"\", \"\", \"\"], [\"Download\", \"Download plot\", \"fa fa-floppy-o icon-save\", \"download\"]];\n",
       "\n",
       "mpl.extensions = [\"eps\", \"jpeg\", \"pdf\", \"png\", \"ps\", \"raw\", \"svg\", \"tif\"];\n",
       "\n",
       "mpl.default_extension = \"png\";/* global mpl */\n",
       "\n",
       "var comm_websocket_adapter = function (comm) {\n",
       "    // Create a \"websocket\"-like object which calls the given IPython comm\n",
       "    // object with the appropriate methods. Currently this is a non binary\n",
       "    // socket, so there is still some room for performance tuning.\n",
       "    var ws = {};\n",
       "\n",
       "    ws.close = function () {\n",
       "        comm.close();\n",
       "    };\n",
       "    ws.send = function (m) {\n",
       "        //console.log('sending', m);\n",
       "        comm.send(m);\n",
       "    };\n",
       "    // Register the callback with on_msg.\n",
       "    comm.on_msg(function (msg) {\n",
       "        //console.log('receiving', msg['content']['data'], msg);\n",
       "        // Pass the mpl event to the overridden (by mpl) onmessage function.\n",
       "        ws.onmessage(msg['content']['data']);\n",
       "    });\n",
       "    return ws;\n",
       "};\n",
       "\n",
       "mpl.mpl_figure_comm = function (comm, msg) {\n",
       "    // This is the function which gets called when the mpl process\n",
       "    // starts-up an IPython Comm through the \"matplotlib\" channel.\n",
       "\n",
       "    var id = msg.content.data.id;\n",
       "    // Get hold of the div created by the display call when the Comm\n",
       "    // socket was opened in Python.\n",
       "    var element = document.getElementById(id);\n",
       "    var ws_proxy = comm_websocket_adapter(comm);\n",
       "\n",
       "    function ondownload(figure, _format) {\n",
       "        window.open(figure.canvas.toDataURL());\n",
       "    }\n",
       "\n",
       "    var fig = new mpl.figure(id, ws_proxy, ondownload, element);\n",
       "\n",
       "    // Call onopen now - mpl needs it, as it is assuming we've passed it a real\n",
       "    // web socket which is closed, not our websocket->open comm proxy.\n",
       "    ws_proxy.onopen();\n",
       "\n",
       "    fig.parent_element = element;\n",
       "    fig.cell_info = mpl.find_output_cell(\"<div id='\" + id + \"'></div>\");\n",
       "    if (!fig.cell_info) {\n",
       "        console.error('Failed to find cell for figure', id, fig);\n",
       "        return;\n",
       "    }\n",
       "    fig.cell_info[0].output_area.element.on(\n",
       "        'cleared',\n",
       "        { fig: fig },\n",
       "        fig._remove_fig_handler\n",
       "    );\n",
       "};\n",
       "\n",
       "mpl.figure.prototype.handle_close = function (fig, msg) {\n",
       "    var width = fig.canvas.width / fig.ratio;\n",
       "    fig.cell_info[0].output_area.element.off(\n",
       "        'cleared',\n",
       "        fig._remove_fig_handler\n",
       "    );\n",
       "    fig.resizeObserverInstance.unobserve(fig.canvas_div);\n",
       "\n",
       "    // Update the output cell to use the data from the current canvas.\n",
       "    fig.push_to_output();\n",
       "    var dataURL = fig.canvas.toDataURL();\n",
       "    // Re-enable the keyboard manager in IPython - without this line, in FF,\n",
       "    // the notebook keyboard shortcuts fail.\n",
       "    IPython.keyboard_manager.enable();\n",
       "    fig.parent_element.innerHTML =\n",
       "        '<img src=\"' + dataURL + '\" width=\"' + width + '\">';\n",
       "    fig.close_ws(fig, msg);\n",
       "};\n",
       "\n",
       "mpl.figure.prototype.close_ws = function (fig, msg) {\n",
       "    fig.send_message('closing', msg);\n",
       "    // fig.ws.close()\n",
       "};\n",
       "\n",
       "mpl.figure.prototype.push_to_output = function (_remove_interactive) {\n",
       "    // Turn the data on the canvas into data in the output cell.\n",
       "    var width = this.canvas.width / this.ratio;\n",
       "    var dataURL = this.canvas.toDataURL();\n",
       "    this.cell_info[1]['text/html'] =\n",
       "        '<img src=\"' + dataURL + '\" width=\"' + width + '\">';\n",
       "};\n",
       "\n",
       "mpl.figure.prototype.updated_canvas_event = function () {\n",
       "    // Tell IPython that the notebook contents must change.\n",
       "    IPython.notebook.set_dirty(true);\n",
       "    this.send_message('ack', {});\n",
       "    var fig = this;\n",
       "    // Wait a second, then push the new image to the DOM so\n",
       "    // that it is saved nicely (might be nice to debounce this).\n",
       "    setTimeout(function () {\n",
       "        fig.push_to_output();\n",
       "    }, 1000);\n",
       "};\n",
       "\n",
       "mpl.figure.prototype._init_toolbar = function () {\n",
       "    var fig = this;\n",
       "\n",
       "    var toolbar = document.createElement('div');\n",
       "    toolbar.classList = 'btn-toolbar';\n",
       "    this.root.appendChild(toolbar);\n",
       "\n",
       "    function on_click_closure(name) {\n",
       "        return function (_event) {\n",
       "            return fig.toolbar_button_onclick(name);\n",
       "        };\n",
       "    }\n",
       "\n",
       "    function on_mouseover_closure(tooltip) {\n",
       "        return function (event) {\n",
       "            if (!event.currentTarget.disabled) {\n",
       "                return fig.toolbar_button_onmouseover(tooltip);\n",
       "            }\n",
       "        };\n",
       "    }\n",
       "\n",
       "    fig.buttons = {};\n",
       "    var buttonGroup = document.createElement('div');\n",
       "    buttonGroup.classList = 'btn-group';\n",
       "    var button;\n",
       "    for (var toolbar_ind in mpl.toolbar_items) {\n",
       "        var name = mpl.toolbar_items[toolbar_ind][0];\n",
       "        var tooltip = mpl.toolbar_items[toolbar_ind][1];\n",
       "        var image = mpl.toolbar_items[toolbar_ind][2];\n",
       "        var method_name = mpl.toolbar_items[toolbar_ind][3];\n",
       "\n",
       "        if (!name) {\n",
       "            /* Instead of a spacer, we start a new button group. */\n",
       "            if (buttonGroup.hasChildNodes()) {\n",
       "                toolbar.appendChild(buttonGroup);\n",
       "            }\n",
       "            buttonGroup = document.createElement('div');\n",
       "            buttonGroup.classList = 'btn-group';\n",
       "            continue;\n",
       "        }\n",
       "\n",
       "        button = fig.buttons[name] = document.createElement('button');\n",
       "        button.classList = 'btn btn-default';\n",
       "        button.href = '#';\n",
       "        button.title = name;\n",
       "        button.innerHTML = '<i class=\"fa ' + image + ' fa-lg\"></i>';\n",
       "        button.addEventListener('click', on_click_closure(method_name));\n",
       "        button.addEventListener('mouseover', on_mouseover_closure(tooltip));\n",
       "        buttonGroup.appendChild(button);\n",
       "    }\n",
       "\n",
       "    if (buttonGroup.hasChildNodes()) {\n",
       "        toolbar.appendChild(buttonGroup);\n",
       "    }\n",
       "\n",
       "    // Add the status bar.\n",
       "    var status_bar = document.createElement('span');\n",
       "    status_bar.classList = 'mpl-message pull-right';\n",
       "    toolbar.appendChild(status_bar);\n",
       "    this.message = status_bar;\n",
       "\n",
       "    // Add the close button to the window.\n",
       "    var buttongrp = document.createElement('div');\n",
       "    buttongrp.classList = 'btn-group inline pull-right';\n",
       "    button = document.createElement('button');\n",
       "    button.classList = 'btn btn-mini btn-primary';\n",
       "    button.href = '#';\n",
       "    button.title = 'Stop Interaction';\n",
       "    button.innerHTML = '<i class=\"fa fa-power-off icon-remove icon-large\"></i>';\n",
       "    button.addEventListener('click', function (_evt) {\n",
       "        fig.handle_close(fig, {});\n",
       "    });\n",
       "    button.addEventListener(\n",
       "        'mouseover',\n",
       "        on_mouseover_closure('Stop Interaction')\n",
       "    );\n",
       "    buttongrp.appendChild(button);\n",
       "    var titlebar = this.root.querySelector('.ui-dialog-titlebar');\n",
       "    titlebar.insertBefore(buttongrp, titlebar.firstChild);\n",
       "};\n",
       "\n",
       "mpl.figure.prototype._remove_fig_handler = function (event) {\n",
       "    var fig = event.data.fig;\n",
       "    if (event.target !== this) {\n",
       "        // Ignore bubbled events from children.\n",
       "        return;\n",
       "    }\n",
       "    fig.close_ws(fig, {});\n",
       "};\n",
       "\n",
       "mpl.figure.prototype._root_extra_style = function (el) {\n",
       "    el.style.boxSizing = 'content-box'; // override notebook setting of border-box.\n",
       "};\n",
       "\n",
       "mpl.figure.prototype._canvas_extra_style = function (el) {\n",
       "    // this is important to make the div 'focusable\n",
       "    el.setAttribute('tabindex', 0);\n",
       "    // reach out to IPython and tell the keyboard manager to turn it's self\n",
       "    // off when our div gets focus\n",
       "\n",
       "    // location in version 3\n",
       "    if (IPython.notebook.keyboard_manager) {\n",
       "        IPython.notebook.keyboard_manager.register_events(el);\n",
       "    } else {\n",
       "        // location in version 2\n",
       "        IPython.keyboard_manager.register_events(el);\n",
       "    }\n",
       "};\n",
       "\n",
       "mpl.figure.prototype._key_event_extra = function (event, _name) {\n",
       "    var manager = IPython.notebook.keyboard_manager;\n",
       "    if (!manager) {\n",
       "        manager = IPython.keyboard_manager;\n",
       "    }\n",
       "\n",
       "    // Check for shift+enter\n",
       "    if (event.shiftKey && event.which === 13) {\n",
       "        this.canvas_div.blur();\n",
       "        // select the cell after this one\n",
       "        var index = IPython.notebook.find_cell_index(this.cell_info[0]);\n",
       "        IPython.notebook.select(index + 1);\n",
       "    }\n",
       "};\n",
       "\n",
       "mpl.figure.prototype.handle_save = function (fig, _msg) {\n",
       "    fig.ondownload(fig, null);\n",
       "};\n",
       "\n",
       "mpl.find_output_cell = function (html_output) {\n",
       "    // Return the cell and output element which can be found *uniquely* in the notebook.\n",
       "    // Note - this is a bit hacky, but it is done because the \"notebook_saving.Notebook\"\n",
       "    // IPython event is triggered only after the cells have been serialised, which for\n",
       "    // our purposes (turning an active figure into a static one), is too late.\n",
       "    var cells = IPython.notebook.get_cells();\n",
       "    var ncells = cells.length;\n",
       "    for (var i = 0; i < ncells; i++) {\n",
       "        var cell = cells[i];\n",
       "        if (cell.cell_type === 'code') {\n",
       "            for (var j = 0; j < cell.output_area.outputs.length; j++) {\n",
       "                var data = cell.output_area.outputs[j];\n",
       "                if (data.data) {\n",
       "                    // IPython >= 3 moved mimebundle to data attribute of output\n",
       "                    data = data.data;\n",
       "                }\n",
       "                if (data['text/html'] === html_output) {\n",
       "                    return [cell, data, j];\n",
       "                }\n",
       "            }\n",
       "        }\n",
       "    }\n",
       "};\n",
       "\n",
       "// Register the function which deals with the matplotlib target/channel.\n",
       "// The kernel may be null if the page has been refreshed.\n",
       "if (IPython.notebook.kernel !== null) {\n",
       "    IPython.notebook.kernel.comm_manager.register_target(\n",
       "        'matplotlib',\n",
       "        mpl.mpl_figure_comm\n",
       "    );\n",
       "}\n"
      ],
      "text/plain": [
       "<IPython.core.display.Javascript object>"
      ]
     },
     "metadata": {},
     "output_type": "display_data"
    },
    {
     "data": {
      "text/html": [
       "<img src=\"data:image/png;base64,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\" width=\"800\">"
      ],
      "text/plain": [
       "<IPython.core.display.HTML object>"
      ]
     },
     "metadata": {},
     "output_type": "display_data"
    }
   ],
   "source": [
    "plt.figure(figsize=(8,6))\n",
    "sns.scatterplot(data=bc_df,x=\"Clump Thickness\", y=\"Uniformity of Cell Size\", hue=\"Class\")\n",
    "plt.legend()\n",
    "plt.show()"
   ]
  },
  {
   "cell_type": "code",
   "execution_count": 11,
   "id": "13bdb3a5",
   "metadata": {},
   "outputs": [],
   "source": [
    "X = bc_df.iloc[:,1:-1]\n",
    "y = bc_df.iloc[:,-1].values"
   ]
  },
  {
   "cell_type": "code",
   "execution_count": 12,
   "id": "988fbce8",
   "metadata": {},
   "outputs": [
    {
     "name": "stdout",
     "output_type": "stream",
     "text": [
      "Optimization terminated successfully.\n",
      "         Current function value: 0.410611\n",
      "         Iterations 8\n"
     ]
    }
   ],
   "source": [
    "results = sm.Logit(y,X).fit()"
   ]
  },
  {
   "cell_type": "code",
   "execution_count": 13,
   "id": "44fc17b1",
   "metadata": {},
   "outputs": [
    {
     "data": {
      "text/html": [
       "<table class=\"simpletable\">\n",
       "<caption>Logit Regression Results</caption>\n",
       "<tr>\n",
       "  <th>Dep. Variable:</th>           <td>y</td>        <th>  No. Observations:  </th>  <td>   683</td>  \n",
       "</tr>\n",
       "<tr>\n",
       "  <th>Model:</th>                 <td>Logit</td>      <th>  Df Residuals:      </th>  <td>   675</td>  \n",
       "</tr>\n",
       "<tr>\n",
       "  <th>Method:</th>                 <td>MLE</td>       <th>  Df Model:          </th>  <td>     7</td>  \n",
       "</tr>\n",
       "<tr>\n",
       "  <th>Date:</th>            <td>Tue, 21 Jun 2022</td> <th>  Pseudo R-squ.:     </th>  <td>0.3658</td>  \n",
       "</tr>\n",
       "<tr>\n",
       "  <th>Time:</th>                <td>17:07:37</td>     <th>  Log-Likelihood:    </th> <td> -280.45</td> \n",
       "</tr>\n",
       "<tr>\n",
       "  <th>converged:</th>             <td>True</td>       <th>  LL-Null:           </th> <td> -442.18</td> \n",
       "</tr>\n",
       "<tr>\n",
       "  <th>Covariance Type:</th>     <td>nonrobust</td>    <th>  LLR p-value:       </th> <td>5.884e-66</td>\n",
       "</tr>\n",
       "</table>\n",
       "<table class=\"simpletable\">\n",
       "<tr>\n",
       "               <td></td>                  <th>coef</th>     <th>std err</th>      <th>z</th>      <th>P>|z|</th>  <th>[0.025</th>    <th>0.975]</th>  \n",
       "</tr>\n",
       "<tr>\n",
       "  <th>Uniformity of Cell Size</th>     <td>    0.9512</td> <td>    0.127</td> <td>    7.474</td> <td> 0.000</td> <td>    0.702</td> <td>    1.201</td>\n",
       "</tr>\n",
       "<tr>\n",
       "  <th>Uniformity of Cell Shape</th>    <td>    0.0531</td> <td>    0.107</td> <td>    0.495</td> <td> 0.621</td> <td>   -0.157</td> <td>    0.264</td>\n",
       "</tr>\n",
       "<tr>\n",
       "  <th>Marginal Adhesion</th>           <td>    0.1042</td> <td>    0.073</td> <td>    1.431</td> <td> 0.153</td> <td>   -0.039</td> <td>    0.247</td>\n",
       "</tr>\n",
       "<tr>\n",
       "  <th>Single Epithelial Cell Size</th> <td>   -0.8806</td> <td>    0.100</td> <td>   -8.807</td> <td> 0.000</td> <td>   -1.077</td> <td>   -0.685</td>\n",
       "</tr>\n",
       "<tr>\n",
       "  <th>Bare Nuclei</th>                 <td>    0.4880</td> <td>    0.063</td> <td>    7.758</td> <td> 0.000</td> <td>    0.365</td> <td>    0.611</td>\n",
       "</tr>\n",
       "<tr>\n",
       "  <th>Bland Chromatin</th>             <td>   -0.6540</td> <td>    0.088</td> <td>   -7.401</td> <td> 0.000</td> <td>   -0.827</td> <td>   -0.481</td>\n",
       "</tr>\n",
       "<tr>\n",
       "  <th>Normal Nucleoli</th>             <td>    0.3567</td> <td>    0.071</td> <td>    5.006</td> <td> 0.000</td> <td>    0.217</td> <td>    0.496</td>\n",
       "</tr>\n",
       "<tr>\n",
       "  <th>Mitoses</th>                     <td>   -0.3104</td> <td>    0.085</td> <td>   -3.634</td> <td> 0.000</td> <td>   -0.478</td> <td>   -0.143</td>\n",
       "</tr>\n",
       "</table>"
      ],
      "text/plain": [
       "<class 'statsmodels.iolib.summary.Summary'>\n",
       "\"\"\"\n",
       "                           Logit Regression Results                           \n",
       "==============================================================================\n",
       "Dep. Variable:                      y   No. Observations:                  683\n",
       "Model:                          Logit   Df Residuals:                      675\n",
       "Method:                           MLE   Df Model:                            7\n",
       "Date:                Tue, 21 Jun 2022   Pseudo R-squ.:                  0.3658\n",
       "Time:                        17:07:37   Log-Likelihood:                -280.45\n",
       "converged:                       True   LL-Null:                       -442.18\n",
       "Covariance Type:            nonrobust   LLR p-value:                 5.884e-66\n",
       "===============================================================================================\n",
       "                                  coef    std err          z      P>|z|      [0.025      0.975]\n",
       "-----------------------------------------------------------------------------------------------\n",
       "Uniformity of Cell Size         0.9512      0.127      7.474      0.000       0.702       1.201\n",
       "Uniformity of Cell Shape        0.0531      0.107      0.495      0.621      -0.157       0.264\n",
       "Marginal Adhesion               0.1042      0.073      1.431      0.153      -0.039       0.247\n",
       "Single Epithelial Cell Size    -0.8806      0.100     -8.807      0.000      -1.077      -0.685\n",
       "Bare Nuclei                     0.4880      0.063      7.758      0.000       0.365       0.611\n",
       "Bland Chromatin                -0.6540      0.088     -7.401      0.000      -0.827      -0.481\n",
       "Normal Nucleoli                 0.3567      0.071      5.006      0.000       0.217       0.496\n",
       "Mitoses                        -0.3104      0.085     -3.634      0.000      -0.478      -0.143\n",
       "===============================================================================================\n",
       "\"\"\""
      ]
     },
     "execution_count": 13,
     "metadata": {},
     "output_type": "execute_result"
    }
   ],
   "source": [
    "results.summary()"
   ]
  },
  {
   "cell_type": "code",
   "execution_count": 14,
   "id": "0b926012",
   "metadata": {},
   "outputs": [],
   "source": [
    "logReg = Logit2(y,X)"
   ]
  },
  {
   "cell_type": "code",
   "execution_count": 15,
   "id": "abe8f93a",
   "metadata": {},
   "outputs": [
    {
     "name": "stdout",
     "output_type": "stream",
     "text": [
      "Optimization terminated successfully.\n",
      "         Current function value: 0.410611\n",
      "         Iterations 8\n",
      "Optimization terminated successfully.\n",
      "         Current function value: 0.410792\n",
      "         Iterations 8\n",
      "Optimization terminated successfully.\n",
      "         Current function value: 0.412325\n",
      "         Iterations 8\n"
     ]
    },
    {
     "data": {
      "text/html": [
       "<table class=\"simpletable\">\n",
       "<caption>Logit Regression Results</caption>\n",
       "<tr>\n",
       "  <th>Dep. Variable:</th>           <td>y</td>        <th>  No. Observations:  </th>  <td>   683</td>  \n",
       "</tr>\n",
       "<tr>\n",
       "  <th>Model:</th>                 <td>Logit</td>      <th>  Df Residuals:      </th>  <td>   677</td>  \n",
       "</tr>\n",
       "<tr>\n",
       "  <th>Method:</th>                 <td>MLE</td>       <th>  Df Model:          </th>  <td>     5</td>  \n",
       "</tr>\n",
       "<tr>\n",
       "  <th>Date:</th>            <td>Tue, 21 Jun 2022</td> <th>  Pseudo R-squ.:     </th>  <td>0.3631</td>  \n",
       "</tr>\n",
       "<tr>\n",
       "  <th>Time:</th>                <td>17:07:37</td>     <th>  Log-Likelihood:    </th> <td> -281.62</td> \n",
       "</tr>\n",
       "<tr>\n",
       "  <th>converged:</th>             <td>True</td>       <th>  LL-Null:           </th> <td> -442.18</td> \n",
       "</tr>\n",
       "<tr>\n",
       "  <th>Covariance Type:</th>     <td>nonrobust</td>    <th>  LLR p-value:       </th> <td>2.882e-67</td>\n",
       "</tr>\n",
       "</table>\n",
       "<table class=\"simpletable\">\n",
       "<tr>\n",
       "               <td></td>                  <th>coef</th>     <th>std err</th>      <th>z</th>      <th>P>|z|</th>  <th>[0.025</th>    <th>0.975]</th>  \n",
       "</tr>\n",
       "<tr>\n",
       "  <th>Uniformity of Cell Size</th>     <td>    1.0112</td> <td>    0.106</td> <td>    9.512</td> <td> 0.000</td> <td>    0.803</td> <td>    1.220</td>\n",
       "</tr>\n",
       "<tr>\n",
       "  <th>Single Epithelial Cell Size</th> <td>   -0.8629</td> <td>    0.099</td> <td>   -8.733</td> <td> 0.000</td> <td>   -1.057</td> <td>   -0.669</td>\n",
       "</tr>\n",
       "<tr>\n",
       "  <th>Bare Nuclei</th>                 <td>    0.5060</td> <td>    0.061</td> <td>    8.232</td> <td> 0.000</td> <td>    0.386</td> <td>    0.626</td>\n",
       "</tr>\n",
       "<tr>\n",
       "  <th>Bland Chromatin</th>             <td>   -0.6256</td> <td>    0.086</td> <td>   -7.305</td> <td> 0.000</td> <td>   -0.793</td> <td>   -0.458</td>\n",
       "</tr>\n",
       "<tr>\n",
       "  <th>Normal Nucleoli</th>             <td>    0.3581</td> <td>    0.070</td> <td>    5.081</td> <td> 0.000</td> <td>    0.220</td> <td>    0.496</td>\n",
       "</tr>\n",
       "<tr>\n",
       "  <th>Mitoses</th>                     <td>   -0.2895</td> <td>    0.084</td> <td>   -3.442</td> <td> 0.001</td> <td>   -0.454</td> <td>   -0.125</td>\n",
       "</tr>\n",
       "</table>"
      ],
      "text/plain": [
       "<class 'statsmodels.iolib.summary.Summary'>\n",
       "\"\"\"\n",
       "                           Logit Regression Results                           \n",
       "==============================================================================\n",
       "Dep. Variable:                      y   No. Observations:                  683\n",
       "Model:                          Logit   Df Residuals:                      677\n",
       "Method:                           MLE   Df Model:                            5\n",
       "Date:                Tue, 21 Jun 2022   Pseudo R-squ.:                  0.3631\n",
       "Time:                        17:07:37   Log-Likelihood:                -281.62\n",
       "converged:                       True   LL-Null:                       -442.18\n",
       "Covariance Type:            nonrobust   LLR p-value:                 2.882e-67\n",
       "===============================================================================================\n",
       "                                  coef    std err          z      P>|z|      [0.025      0.975]\n",
       "-----------------------------------------------------------------------------------------------\n",
       "Uniformity of Cell Size         1.0112      0.106      9.512      0.000       0.803       1.220\n",
       "Single Epithelial Cell Size    -0.8629      0.099     -8.733      0.000      -1.057      -0.669\n",
       "Bare Nuclei                     0.5060      0.061      8.232      0.000       0.386       0.626\n",
       "Bland Chromatin                -0.6256      0.086     -7.305      0.000      -0.793      -0.458\n",
       "Normal Nucleoli                 0.3581      0.070      5.081      0.000       0.220       0.496\n",
       "Mitoses                        -0.2895      0.084     -3.442      0.001      -0.454      -0.125\n",
       "===============================================================================================\n",
       "\"\"\""
      ]
     },
     "execution_count": 15,
     "metadata": {},
     "output_type": "execute_result"
    }
   ],
   "source": [
    "logReg.backward_elimination().summary()"
   ]
  },
  {
   "cell_type": "code",
   "execution_count": 16,
   "id": "b9ff0ee4",
   "metadata": {},
   "outputs": [
    {
     "data": {
      "text/plain": [
       "Index(['Uniformity of Cell Size', 'Single Epithelial Cell Size', 'Bare Nuclei',\n",
       "       'Bland Chromatin', 'Normal Nucleoli', 'Mitoses'],\n",
       "      dtype='object')"
      ]
     },
     "execution_count": 16,
     "metadata": {},
     "output_type": "execute_result"
    }
   ],
   "source": [
    "logReg.sigCols"
   ]
  },
  {
   "cell_type": "code",
   "execution_count": 17,
   "id": "be093eb8",
   "metadata": {},
   "outputs": [],
   "source": [
    "bc_df = bc_df[['Clump Thickness', 'Uniformity of Cell Size',\n",
    "               'Single Epithelial Cell Size', 'Bare Nuclei', 'Bland Chromatin',\n",
    "               'Normal Nucleoli', 'Mitoses','Class']]"
   ]
  },
  {
   "cell_type": "code",
   "execution_count": 18,
   "id": "023fc2be",
   "metadata": {},
   "outputs": [],
   "source": [
    "X = bc_df.iloc[:,1:-1].values\n",
    "y = bc_df.iloc[:,-1].values"
   ]
  },
  {
   "cell_type": "code",
   "execution_count": 19,
   "id": "27a2139c",
   "metadata": {},
   "outputs": [],
   "source": [
    "X_train, X_test, y_train, y_test = train_test_split(X,y,test_size=0.25,random_state=0)"
   ]
  },
  {
   "cell_type": "code",
   "execution_count": 20,
   "id": "d6bb1ebe",
   "metadata": {},
   "outputs": [],
   "source": [
    "lgr = LogisticRegression()"
   ]
  },
  {
   "cell_type": "code",
   "execution_count": 21,
   "id": "17ab93d4",
   "metadata": {},
   "outputs": [
    {
     "data": {
      "text/html": [
       "<style>#sk-container-id-1 {color: black;background-color: white;}#sk-container-id-1 pre{padding: 0;}#sk-container-id-1 div.sk-toggleable {background-color: white;}#sk-container-id-1 label.sk-toggleable__label {cursor: pointer;display: block;width: 100%;margin-bottom: 0;padding: 0.3em;box-sizing: border-box;text-align: center;}#sk-container-id-1 label.sk-toggleable__label-arrow:before {content: \"▸\";float: left;margin-right: 0.25em;color: #696969;}#sk-container-id-1 label.sk-toggleable__label-arrow:hover:before {color: black;}#sk-container-id-1 div.sk-estimator:hover label.sk-toggleable__label-arrow:before {color: black;}#sk-container-id-1 div.sk-toggleable__content {max-height: 0;max-width: 0;overflow: hidden;text-align: left;background-color: #f0f8ff;}#sk-container-id-1 div.sk-toggleable__content pre {margin: 0.2em;color: black;border-radius: 0.25em;background-color: #f0f8ff;}#sk-container-id-1 input.sk-toggleable__control:checked~div.sk-toggleable__content {max-height: 200px;max-width: 100%;overflow: auto;}#sk-container-id-1 input.sk-toggleable__control:checked~label.sk-toggleable__label-arrow:before {content: \"▾\";}#sk-container-id-1 div.sk-estimator input.sk-toggleable__control:checked~label.sk-toggleable__label {background-color: #d4ebff;}#sk-container-id-1 div.sk-label input.sk-toggleable__control:checked~label.sk-toggleable__label {background-color: #d4ebff;}#sk-container-id-1 input.sk-hidden--visually {border: 0;clip: rect(1px 1px 1px 1px);clip: rect(1px, 1px, 1px, 1px);height: 1px;margin: -1px;overflow: hidden;padding: 0;position: absolute;width: 1px;}#sk-container-id-1 div.sk-estimator {font-family: monospace;background-color: #f0f8ff;border: 1px dotted black;border-radius: 0.25em;box-sizing: border-box;margin-bottom: 0.5em;}#sk-container-id-1 div.sk-estimator:hover {background-color: #d4ebff;}#sk-container-id-1 div.sk-parallel-item::after {content: \"\";width: 100%;border-bottom: 1px solid gray;flex-grow: 1;}#sk-container-id-1 div.sk-label:hover label.sk-toggleable__label {background-color: #d4ebff;}#sk-container-id-1 div.sk-serial::before {content: \"\";position: absolute;border-left: 1px solid gray;box-sizing: border-box;top: 0;bottom: 0;left: 50%;z-index: 0;}#sk-container-id-1 div.sk-serial {display: flex;flex-direction: column;align-items: center;background-color: white;padding-right: 0.2em;padding-left: 0.2em;position: relative;}#sk-container-id-1 div.sk-item {position: relative;z-index: 1;}#sk-container-id-1 div.sk-parallel {display: flex;align-items: stretch;justify-content: center;background-color: white;position: relative;}#sk-container-id-1 div.sk-item::before, #sk-container-id-1 div.sk-parallel-item::before {content: \"\";position: absolute;border-left: 1px solid gray;box-sizing: border-box;top: 0;bottom: 0;left: 50%;z-index: -1;}#sk-container-id-1 div.sk-parallel-item {display: flex;flex-direction: column;z-index: 1;position: relative;background-color: white;}#sk-container-id-1 div.sk-parallel-item:first-child::after {align-self: flex-end;width: 50%;}#sk-container-id-1 div.sk-parallel-item:last-child::after {align-self: flex-start;width: 50%;}#sk-container-id-1 div.sk-parallel-item:only-child::after {width: 0;}#sk-container-id-1 div.sk-dashed-wrapped {border: 1px dashed gray;margin: 0 0.4em 0.5em 0.4em;box-sizing: border-box;padding-bottom: 0.4em;background-color: white;}#sk-container-id-1 div.sk-label label {font-family: monospace;font-weight: bold;display: inline-block;line-height: 1.2em;}#sk-container-id-1 div.sk-label-container {text-align: center;}#sk-container-id-1 div.sk-container {/* jupyter's `normalize.less` sets `[hidden] { display: none; }` but bootstrap.min.css set `[hidden] { display: none !important; }` so we also need the `!important` here to be able to override the default hidden behavior on the sphinx rendered scikit-learn.org. See: https://github.com/scikit-learn/scikit-learn/issues/21755 */display: inline-block !important;position: relative;}#sk-container-id-1 div.sk-text-repr-fallback {display: none;}</style><div id=\"sk-container-id-1\" class=\"sk-top-container\"><div class=\"sk-text-repr-fallback\"><pre>LogisticRegression()</pre><b>In a Jupyter environment, please rerun this cell to show the HTML representation or trust the notebook. <br />On GitHub, the HTML representation is unable to render, please try loading this page with nbviewer.org.</b></div><div class=\"sk-container\" hidden><div class=\"sk-item\"><div class=\"sk-estimator sk-toggleable\"><input class=\"sk-toggleable__control sk-hidden--visually\" id=\"sk-estimator-id-1\" type=\"checkbox\" checked><label for=\"sk-estimator-id-1\" class=\"sk-toggleable__label sk-toggleable__label-arrow\">LogisticRegression</label><div class=\"sk-toggleable__content\"><pre>LogisticRegression()</pre></div></div></div></div></div>"
      ],
      "text/plain": [
       "LogisticRegression()"
      ]
     },
     "execution_count": 21,
     "metadata": {},
     "output_type": "execute_result"
    }
   ],
   "source": [
    "lgr.fit(X_train,y_train)"
   ]
  },
  {
   "cell_type": "code",
   "execution_count": 22,
   "id": "98567d0a",
   "metadata": {},
   "outputs": [],
   "source": [
    "ypred = lgr.predict(X_test)"
   ]
  },
  {
   "cell_type": "code",
   "execution_count": 23,
   "id": "ed314010",
   "metadata": {},
   "outputs": [
    {
     "data": {
      "text/plain": [
       "Confusion Matrix:\n",
       "[[102   5]\n",
       " [  9  55]]\n",
       "Accuracy: 91.81%\n",
       "Missclassification Error: 8.19%\n",
       "Sensitivity: 85.94%\n",
       "Specificity: 95.33%\n",
       "Recall Score: 85.94%\n",
       "Precision Score: 91.67%"
      ]
     },
     "execution_count": 23,
     "metadata": {},
     "output_type": "execute_result"
    }
   ],
   "source": [
    "cs1 = ClassificationSummary(y_test,ypred)\n",
    "cs1"
   ]
  },
  {
   "cell_type": "markdown",
   "id": "7b55fba8",
   "metadata": {},
   "source": [
    "# Cross Validation Logistic Regression"
   ]
  },
  {
   "cell_type": "code",
   "execution_count": 24,
   "id": "16910521",
   "metadata": {},
   "outputs": [],
   "source": [
    "lgr = LogisticRegression()"
   ]
  },
  {
   "cell_type": "code",
   "execution_count": 25,
   "id": "04516781",
   "metadata": {},
   "outputs": [],
   "source": [
    "cvs = cross_val_score(lgr,X_train,y_train,cv=10)"
   ]
  },
  {
   "cell_type": "code",
   "execution_count": 26,
   "id": "d1f252dd",
   "metadata": {},
   "outputs": [],
   "source": [
    "ma_cv = r2(cvs.mean())\n",
    "ma_cv_std = r2(cvs.std())"
   ]
  },
  {
   "cell_type": "code",
   "execution_count": 27,
   "id": "35784b2f",
   "metadata": {},
   "outputs": [
    {
     "name": "stdout",
     "output_type": "stream",
     "text": [
      "Model Accuracy 10 Fold Cross Validation: 97.07%\n",
      "Model Accuracy Standard Deviation: 2.64%\n"
     ]
    }
   ],
   "source": [
    "print(\"Model Accuracy 10 Fold Cross Validation: {}%\".format(ma_cv) \n",
    "      + \"\\n\"\n",
    "      + \"Model Accuracy Standard Deviation: {:.2f}%\".format(ma_cv_std))"
   ]
  },
  {
   "cell_type": "markdown",
   "id": "2d472124",
   "metadata": {},
   "source": [
    "# Random Forests"
   ]
  },
  {
   "cell_type": "code",
   "execution_count": 28,
   "id": "beaf95f2",
   "metadata": {},
   "outputs": [],
   "source": [
    "X = bc_df.iloc[:,1:-1].values\n",
    "y = bc_df.iloc[:,-1].values"
   ]
  },
  {
   "cell_type": "code",
   "execution_count": 29,
   "id": "2521a9c3",
   "metadata": {},
   "outputs": [],
   "source": [
    "X_train, X_test, y_train, y_test = train_test_split(X,y,test_size=0.2,random_state=9)"
   ]
  },
  {
   "cell_type": "code",
   "execution_count": 30,
   "id": "1a7696e9",
   "metadata": {},
   "outputs": [],
   "source": [
    "rf_classifier = RandomForestClassifier(n_estimators=100\n",
    "                                       ,criterion=\"entropy\"\n",
    "                                      ,random_state=9)"
   ]
  },
  {
   "cell_type": "code",
   "execution_count": 31,
   "id": "5a628411",
   "metadata": {},
   "outputs": [
    {
     "data": {
      "text/html": [
       "<style>#sk-container-id-2 {color: black;background-color: white;}#sk-container-id-2 pre{padding: 0;}#sk-container-id-2 div.sk-toggleable {background-color: white;}#sk-container-id-2 label.sk-toggleable__label {cursor: pointer;display: block;width: 100%;margin-bottom: 0;padding: 0.3em;box-sizing: border-box;text-align: center;}#sk-container-id-2 label.sk-toggleable__label-arrow:before {content: \"▸\";float: left;margin-right: 0.25em;color: #696969;}#sk-container-id-2 label.sk-toggleable__label-arrow:hover:before {color: black;}#sk-container-id-2 div.sk-estimator:hover label.sk-toggleable__label-arrow:before {color: black;}#sk-container-id-2 div.sk-toggleable__content {max-height: 0;max-width: 0;overflow: hidden;text-align: left;background-color: #f0f8ff;}#sk-container-id-2 div.sk-toggleable__content pre {margin: 0.2em;color: black;border-radius: 0.25em;background-color: #f0f8ff;}#sk-container-id-2 input.sk-toggleable__control:checked~div.sk-toggleable__content {max-height: 200px;max-width: 100%;overflow: auto;}#sk-container-id-2 input.sk-toggleable__control:checked~label.sk-toggleable__label-arrow:before {content: \"▾\";}#sk-container-id-2 div.sk-estimator input.sk-toggleable__control:checked~label.sk-toggleable__label {background-color: #d4ebff;}#sk-container-id-2 div.sk-label input.sk-toggleable__control:checked~label.sk-toggleable__label {background-color: #d4ebff;}#sk-container-id-2 input.sk-hidden--visually {border: 0;clip: rect(1px 1px 1px 1px);clip: rect(1px, 1px, 1px, 1px);height: 1px;margin: -1px;overflow: hidden;padding: 0;position: absolute;width: 1px;}#sk-container-id-2 div.sk-estimator {font-family: monospace;background-color: #f0f8ff;border: 1px dotted black;border-radius: 0.25em;box-sizing: border-box;margin-bottom: 0.5em;}#sk-container-id-2 div.sk-estimator:hover {background-color: #d4ebff;}#sk-container-id-2 div.sk-parallel-item::after {content: \"\";width: 100%;border-bottom: 1px solid gray;flex-grow: 1;}#sk-container-id-2 div.sk-label:hover label.sk-toggleable__label {background-color: #d4ebff;}#sk-container-id-2 div.sk-serial::before {content: \"\";position: absolute;border-left: 1px solid gray;box-sizing: border-box;top: 0;bottom: 0;left: 50%;z-index: 0;}#sk-container-id-2 div.sk-serial {display: flex;flex-direction: column;align-items: center;background-color: white;padding-right: 0.2em;padding-left: 0.2em;position: relative;}#sk-container-id-2 div.sk-item {position: relative;z-index: 1;}#sk-container-id-2 div.sk-parallel {display: flex;align-items: stretch;justify-content: center;background-color: white;position: relative;}#sk-container-id-2 div.sk-item::before, #sk-container-id-2 div.sk-parallel-item::before {content: \"\";position: absolute;border-left: 1px solid gray;box-sizing: border-box;top: 0;bottom: 0;left: 50%;z-index: -1;}#sk-container-id-2 div.sk-parallel-item {display: flex;flex-direction: column;z-index: 1;position: relative;background-color: white;}#sk-container-id-2 div.sk-parallel-item:first-child::after {align-self: flex-end;width: 50%;}#sk-container-id-2 div.sk-parallel-item:last-child::after {align-self: flex-start;width: 50%;}#sk-container-id-2 div.sk-parallel-item:only-child::after {width: 0;}#sk-container-id-2 div.sk-dashed-wrapped {border: 1px dashed gray;margin: 0 0.4em 0.5em 0.4em;box-sizing: border-box;padding-bottom: 0.4em;background-color: white;}#sk-container-id-2 div.sk-label label {font-family: monospace;font-weight: bold;display: inline-block;line-height: 1.2em;}#sk-container-id-2 div.sk-label-container {text-align: center;}#sk-container-id-2 div.sk-container {/* jupyter's `normalize.less` sets `[hidden] { display: none; }` but bootstrap.min.css set `[hidden] { display: none !important; }` so we also need the `!important` here to be able to override the default hidden behavior on the sphinx rendered scikit-learn.org. See: https://github.com/scikit-learn/scikit-learn/issues/21755 */display: inline-block !important;position: relative;}#sk-container-id-2 div.sk-text-repr-fallback {display: none;}</style><div id=\"sk-container-id-2\" class=\"sk-top-container\"><div class=\"sk-text-repr-fallback\"><pre>RandomForestClassifier(criterion=&#x27;entropy&#x27;, random_state=9)</pre><b>In a Jupyter environment, please rerun this cell to show the HTML representation or trust the notebook. <br />On GitHub, the HTML representation is unable to render, please try loading this page with nbviewer.org.</b></div><div class=\"sk-container\" hidden><div class=\"sk-item\"><div class=\"sk-estimator sk-toggleable\"><input class=\"sk-toggleable__control sk-hidden--visually\" id=\"sk-estimator-id-2\" type=\"checkbox\" checked><label for=\"sk-estimator-id-2\" class=\"sk-toggleable__label sk-toggleable__label-arrow\">RandomForestClassifier</label><div class=\"sk-toggleable__content\"><pre>RandomForestClassifier(criterion=&#x27;entropy&#x27;, random_state=9)</pre></div></div></div></div></div>"
      ],
      "text/plain": [
       "RandomForestClassifier(criterion='entropy', random_state=9)"
      ]
     },
     "execution_count": 31,
     "metadata": {},
     "output_type": "execute_result"
    }
   ],
   "source": [
    "rf_classifier.fit(X_train, y_train)"
   ]
  },
  {
   "cell_type": "code",
   "execution_count": 32,
   "id": "9ac6758d",
   "metadata": {},
   "outputs": [],
   "source": [
    "ypred = rf_classifier.predict(X_test)"
   ]
  },
  {
   "cell_type": "code",
   "execution_count": 33,
   "id": "ac9b9ab2",
   "metadata": {},
   "outputs": [
    {
     "data": {
      "text/plain": [
       "array([[84,  0],\n",
       "       [ 1, 52]])"
      ]
     },
     "execution_count": 33,
     "metadata": {},
     "output_type": "execute_result"
    }
   ],
   "source": [
    "cm = confusion_matrix(y_test, ypred)\n",
    "cm"
   ]
  },
  {
   "cell_type": "code",
   "execution_count": 34,
   "id": "e2899ddc",
   "metadata": {},
   "outputs": [],
   "source": [
    "tn,fp,fn,tp = cm.ravel()"
   ]
  },
  {
   "cell_type": "code",
   "execution_count": 35,
   "id": "8692542b",
   "metadata": {},
   "outputs": [
    {
     "name": "stdout",
     "output_type": "stream",
     "text": [
      "Sensitivity 98.11%\n"
     ]
    }
   ],
   "source": [
    "sense = tp / (tp+fn) * 100\n",
    "\n",
    "print(\"Sensitivity {:.2f}%\".format(sense))"
   ]
  },
  {
   "cell_type": "code",
   "execution_count": 36,
   "id": "24f471df",
   "metadata": {},
   "outputs": [
    {
     "name": "stdout",
     "output_type": "stream",
     "text": [
      "Specificity 100.00%\n"
     ]
    }
   ],
   "source": [
    "spec = tn / (tn + fp) * 100\n",
    "\n",
    "print(\"Specificity {:.2f}%\".format(spec))"
   ]
  },
  {
   "cell_type": "code",
   "execution_count": 37,
   "id": "ed429a26",
   "metadata": {},
   "outputs": [],
   "source": [
    "ACC = r2(accuracy_score(y_test,ypred))"
   ]
  },
  {
   "cell_type": "code",
   "execution_count": 38,
   "id": "34eb002a",
   "metadata": {},
   "outputs": [
    {
     "name": "stdout",
     "output_type": "stream",
     "text": [
      "Random Forest Model ACC: 99.27%\n"
     ]
    }
   ],
   "source": [
    "print(\"Random Forest Model ACC: {}%\".format(ACC))"
   ]
  },
  {
   "cell_type": "code",
   "execution_count": 39,
   "id": "f274f1ab",
   "metadata": {},
   "outputs": [
    {
     "data": {
      "text/plain": [
       "Confusion Matrix:\n",
       "[[84  0]\n",
       " [ 1 52]]\n",
       "Accuracy: 99.27%\n",
       "Missclassification Error: 0.73%\n",
       "Sensitivity: 98.11%\n",
       "Specificity: 100.0%\n",
       "Recall Score: 98.11%\n",
       "Precision Score: 100.0%"
      ]
     },
     "execution_count": 39,
     "metadata": {},
     "output_type": "execute_result"
    }
   ],
   "source": [
    "c2 = ClassificationSummary(y_test, ypred)\n",
    "c2"
   ]
  },
  {
   "cell_type": "markdown",
   "id": "ddd07c45",
   "metadata": {},
   "source": [
    "# Cross Validation Random Forest"
   ]
  },
  {
   "cell_type": "code",
   "execution_count": 40,
   "id": "e2d5a4e7",
   "metadata": {},
   "outputs": [],
   "source": [
    "rf_classifier = RandomForestClassifier(n_estimators=100\n",
    "                                       ,criterion=\"entropy\"\n",
    "                                      ,random_state=9)"
   ]
  },
  {
   "cell_type": "code",
   "execution_count": 41,
   "id": "8425472a",
   "metadata": {},
   "outputs": [],
   "source": [
    "ACC = r2(cross_val_score(rf_classifier,X,y).mean())"
   ]
  },
  {
   "cell_type": "code",
   "execution_count": 42,
   "id": "fed41340",
   "metadata": {},
   "outputs": [
    {
     "name": "stdout",
     "output_type": "stream",
     "text": [
      "CV - Random Forest ACC: 95.91%\n"
     ]
    }
   ],
   "source": [
    "print(\"CV - Random Forest ACC: {}%\".format(ACC))"
   ]
  },
  {
   "cell_type": "code",
   "execution_count": 43,
   "id": "00a5c7d2",
   "metadata": {},
   "outputs": [],
   "source": [
    "EER = r2(1 - cross_val_score(rf_classifier,X,y).mean())"
   ]
  },
  {
   "cell_type": "code",
   "execution_count": 44,
   "id": "cf18e1a7",
   "metadata": {},
   "outputs": [
    {
     "name": "stdout",
     "output_type": "stream",
     "text": [
      "Missclassification Error: 4.09%\n"
     ]
    }
   ],
   "source": [
    "print(\"Missclassification Error: {}%\".format(EER))"
   ]
  },
  {
   "cell_type": "markdown",
   "id": "5d8c3969",
   "metadata": {},
   "source": [
    "# Support Vector Machine"
   ]
  },
  {
   "cell_type": "code",
   "execution_count": 45,
   "id": "50f2a067",
   "metadata": {},
   "outputs": [],
   "source": [
    "sc = StandardScaler()"
   ]
  },
  {
   "cell_type": "code",
   "execution_count": 46,
   "id": "d7b75e98",
   "metadata": {},
   "outputs": [],
   "source": [
    "svm_classifier = SVC( C=4.0,\n",
    "    kernel='rbf',\n",
    "    degree=3,\n",
    "    gamma='scale',\n",
    "    coef0=0.0,\n",
    "    random_state=9)"
   ]
  },
  {
   "cell_type": "code",
   "execution_count": 47,
   "id": "002b329e",
   "metadata": {},
   "outputs": [],
   "source": [
    "X_train, X_test, y_train, y_test = train_test_split(X,y,test_size=0.20, random_state=9)"
   ]
  },
  {
   "cell_type": "code",
   "execution_count": 48,
   "id": "a564c633",
   "metadata": {},
   "outputs": [],
   "source": [
    "X_train = sc.fit_transform(X_train)\n",
    "X_test = sc.fit_transform(X_test)"
   ]
  },
  {
   "cell_type": "code",
   "execution_count": 49,
   "id": "52f26947",
   "metadata": {},
   "outputs": [
    {
     "data": {
      "text/html": [
       "<style>#sk-container-id-3 {color: black;background-color: white;}#sk-container-id-3 pre{padding: 0;}#sk-container-id-3 div.sk-toggleable {background-color: white;}#sk-container-id-3 label.sk-toggleable__label {cursor: pointer;display: block;width: 100%;margin-bottom: 0;padding: 0.3em;box-sizing: border-box;text-align: center;}#sk-container-id-3 label.sk-toggleable__label-arrow:before {content: \"▸\";float: left;margin-right: 0.25em;color: #696969;}#sk-container-id-3 label.sk-toggleable__label-arrow:hover:before {color: black;}#sk-container-id-3 div.sk-estimator:hover label.sk-toggleable__label-arrow:before {color: black;}#sk-container-id-3 div.sk-toggleable__content {max-height: 0;max-width: 0;overflow: hidden;text-align: left;background-color: #f0f8ff;}#sk-container-id-3 div.sk-toggleable__content pre {margin: 0.2em;color: black;border-radius: 0.25em;background-color: #f0f8ff;}#sk-container-id-3 input.sk-toggleable__control:checked~div.sk-toggleable__content {max-height: 200px;max-width: 100%;overflow: auto;}#sk-container-id-3 input.sk-toggleable__control:checked~label.sk-toggleable__label-arrow:before {content: \"▾\";}#sk-container-id-3 div.sk-estimator input.sk-toggleable__control:checked~label.sk-toggleable__label {background-color: #d4ebff;}#sk-container-id-3 div.sk-label input.sk-toggleable__control:checked~label.sk-toggleable__label {background-color: #d4ebff;}#sk-container-id-3 input.sk-hidden--visually {border: 0;clip: rect(1px 1px 1px 1px);clip: rect(1px, 1px, 1px, 1px);height: 1px;margin: -1px;overflow: hidden;padding: 0;position: absolute;width: 1px;}#sk-container-id-3 div.sk-estimator {font-family: monospace;background-color: #f0f8ff;border: 1px dotted black;border-radius: 0.25em;box-sizing: border-box;margin-bottom: 0.5em;}#sk-container-id-3 div.sk-estimator:hover {background-color: #d4ebff;}#sk-container-id-3 div.sk-parallel-item::after {content: \"\";width: 100%;border-bottom: 1px solid gray;flex-grow: 1;}#sk-container-id-3 div.sk-label:hover label.sk-toggleable__label {background-color: #d4ebff;}#sk-container-id-3 div.sk-serial::before {content: \"\";position: absolute;border-left: 1px solid gray;box-sizing: border-box;top: 0;bottom: 0;left: 50%;z-index: 0;}#sk-container-id-3 div.sk-serial {display: flex;flex-direction: column;align-items: center;background-color: white;padding-right: 0.2em;padding-left: 0.2em;position: relative;}#sk-container-id-3 div.sk-item {position: relative;z-index: 1;}#sk-container-id-3 div.sk-parallel {display: flex;align-items: stretch;justify-content: center;background-color: white;position: relative;}#sk-container-id-3 div.sk-item::before, #sk-container-id-3 div.sk-parallel-item::before {content: \"\";position: absolute;border-left: 1px solid gray;box-sizing: border-box;top: 0;bottom: 0;left: 50%;z-index: -1;}#sk-container-id-3 div.sk-parallel-item {display: flex;flex-direction: column;z-index: 1;position: relative;background-color: white;}#sk-container-id-3 div.sk-parallel-item:first-child::after {align-self: flex-end;width: 50%;}#sk-container-id-3 div.sk-parallel-item:last-child::after {align-self: flex-start;width: 50%;}#sk-container-id-3 div.sk-parallel-item:only-child::after {width: 0;}#sk-container-id-3 div.sk-dashed-wrapped {border: 1px dashed gray;margin: 0 0.4em 0.5em 0.4em;box-sizing: border-box;padding-bottom: 0.4em;background-color: white;}#sk-container-id-3 div.sk-label label {font-family: monospace;font-weight: bold;display: inline-block;line-height: 1.2em;}#sk-container-id-3 div.sk-label-container {text-align: center;}#sk-container-id-3 div.sk-container {/* jupyter's `normalize.less` sets `[hidden] { display: none; }` but bootstrap.min.css set `[hidden] { display: none !important; }` so we also need the `!important` here to be able to override the default hidden behavior on the sphinx rendered scikit-learn.org. See: https://github.com/scikit-learn/scikit-learn/issues/21755 */display: inline-block !important;position: relative;}#sk-container-id-3 div.sk-text-repr-fallback {display: none;}</style><div id=\"sk-container-id-3\" class=\"sk-top-container\"><div class=\"sk-text-repr-fallback\"><pre>SVC(C=4.0, random_state=9)</pre><b>In a Jupyter environment, please rerun this cell to show the HTML representation or trust the notebook. <br />On GitHub, the HTML representation is unable to render, please try loading this page with nbviewer.org.</b></div><div class=\"sk-container\" hidden><div class=\"sk-item\"><div class=\"sk-estimator sk-toggleable\"><input class=\"sk-toggleable__control sk-hidden--visually\" id=\"sk-estimator-id-3\" type=\"checkbox\" checked><label for=\"sk-estimator-id-3\" class=\"sk-toggleable__label sk-toggleable__label-arrow\">SVC</label><div class=\"sk-toggleable__content\"><pre>SVC(C=4.0, random_state=9)</pre></div></div></div></div></div>"
      ],
      "text/plain": [
       "SVC(C=4.0, random_state=9)"
      ]
     },
     "execution_count": 49,
     "metadata": {},
     "output_type": "execute_result"
    }
   ],
   "source": [
    "svm_classifier.fit(X_train,y_train)"
   ]
  },
  {
   "cell_type": "code",
   "execution_count": 50,
   "id": "ea37c006",
   "metadata": {},
   "outputs": [],
   "source": [
    "ypred = svm_classifier.predict(X_test)"
   ]
  },
  {
   "cell_type": "code",
   "execution_count": 51,
   "id": "0981787d",
   "metadata": {},
   "outputs": [
    {
     "data": {
      "text/plain": [
       "Confusion Matrix:\n",
       "[[84  0]\n",
       " [ 3 50]]\n",
       "Accuracy: 97.81%\n",
       "Missclassification Error: 2.19%\n",
       "Sensitivity: 94.34%\n",
       "Specificity: 100.0%\n",
       "Recall Score: 94.34%\n",
       "Precision Score: 100.0%"
      ]
     },
     "execution_count": 51,
     "metadata": {},
     "output_type": "execute_result"
    }
   ],
   "source": [
    "c3 = ClassificationSummary(y_test, ypred)\n",
    "c3"
   ]
  },
  {
   "cell_type": "markdown",
   "id": "64a30897",
   "metadata": {},
   "source": [
    "# Support Vector Machine - Cross Validation"
   ]
  },
  {
   "cell_type": "code",
   "execution_count": 52,
   "id": "86e42097",
   "metadata": {},
   "outputs": [],
   "source": [
    "svm_classifier = SVC( C=4.0,\n",
    "    kernel='rbf',\n",
    "    degree=3,\n",
    "    gamma='scale',\n",
    "    coef0=0.0,\n",
    "    random_state=9)"
   ]
  },
  {
   "cell_type": "code",
   "execution_count": 53,
   "id": "a3b54a65",
   "metadata": {},
   "outputs": [],
   "source": [
    "ACC = r2(cross_val_score(svm_classifier,X_train,y_train).mean())"
   ]
  },
  {
   "cell_type": "code",
   "execution_count": 54,
   "id": "2270638a",
   "metadata": {},
   "outputs": [
    {
     "name": "stdout",
     "output_type": "stream",
     "text": [
      "SVM - Cross Validation: 95.24%\n"
     ]
    }
   ],
   "source": [
    "print(\"SVM - Cross Validation: {}%\".format(ACC))"
   ]
  },
  {
   "cell_type": "code",
   "execution_count": 55,
   "id": "4b3fe94e",
   "metadata": {},
   "outputs": [],
   "source": [
    "EER = r2(1 - cross_val_score(svm_classifier,X_train,y_train).mean())"
   ]
  },
  {
   "cell_type": "code",
   "execution_count": 56,
   "id": "cc4bf47f",
   "metadata": {},
   "outputs": [
    {
     "name": "stdout",
     "output_type": "stream",
     "text": [
      "Missclassification Error: 4.76%\n"
     ]
    }
   ],
   "source": [
    "print(\"Missclassification Error: {}%\".format(EER))"
   ]
  },
  {
   "cell_type": "markdown",
   "id": "4f4f0b41",
   "metadata": {},
   "source": [
    "# Gaussian Niave Bayes"
   ]
  },
  {
   "cell_type": "code",
   "execution_count": 57,
   "id": "1a274799",
   "metadata": {},
   "outputs": [],
   "source": [
    "gnb_classifier = GaussianNB()"
   ]
  },
  {
   "cell_type": "code",
   "execution_count": 58,
   "id": "a92bcfd6",
   "metadata": {},
   "outputs": [],
   "source": [
    "sc = StandardScaler()"
   ]
  },
  {
   "cell_type": "code",
   "execution_count": 59,
   "id": "ff468958",
   "metadata": {},
   "outputs": [],
   "source": [
    "X = bc_df.iloc[:,:-1].values\n",
    "y = bc_df.iloc[:,-1].values"
   ]
  },
  {
   "cell_type": "code",
   "execution_count": 60,
   "id": "0353951a",
   "metadata": {},
   "outputs": [],
   "source": [
    "X_train,X_test, y_train, y_test = train_test_split(X,y,test_size=0.25,random_state=9)"
   ]
  },
  {
   "cell_type": "code",
   "execution_count": 61,
   "id": "b2193125",
   "metadata": {},
   "outputs": [
    {
     "data": {
      "text/html": [
       "<style>#sk-container-id-4 {color: black;background-color: white;}#sk-container-id-4 pre{padding: 0;}#sk-container-id-4 div.sk-toggleable {background-color: white;}#sk-container-id-4 label.sk-toggleable__label {cursor: pointer;display: block;width: 100%;margin-bottom: 0;padding: 0.3em;box-sizing: border-box;text-align: center;}#sk-container-id-4 label.sk-toggleable__label-arrow:before {content: \"▸\";float: left;margin-right: 0.25em;color: #696969;}#sk-container-id-4 label.sk-toggleable__label-arrow:hover:before {color: black;}#sk-container-id-4 div.sk-estimator:hover label.sk-toggleable__label-arrow:before {color: black;}#sk-container-id-4 div.sk-toggleable__content {max-height: 0;max-width: 0;overflow: hidden;text-align: left;background-color: #f0f8ff;}#sk-container-id-4 div.sk-toggleable__content pre {margin: 0.2em;color: black;border-radius: 0.25em;background-color: #f0f8ff;}#sk-container-id-4 input.sk-toggleable__control:checked~div.sk-toggleable__content {max-height: 200px;max-width: 100%;overflow: auto;}#sk-container-id-4 input.sk-toggleable__control:checked~label.sk-toggleable__label-arrow:before {content: \"▾\";}#sk-container-id-4 div.sk-estimator input.sk-toggleable__control:checked~label.sk-toggleable__label {background-color: #d4ebff;}#sk-container-id-4 div.sk-label input.sk-toggleable__control:checked~label.sk-toggleable__label {background-color: #d4ebff;}#sk-container-id-4 input.sk-hidden--visually {border: 0;clip: rect(1px 1px 1px 1px);clip: rect(1px, 1px, 1px, 1px);height: 1px;margin: -1px;overflow: hidden;padding: 0;position: absolute;width: 1px;}#sk-container-id-4 div.sk-estimator {font-family: monospace;background-color: #f0f8ff;border: 1px dotted black;border-radius: 0.25em;box-sizing: border-box;margin-bottom: 0.5em;}#sk-container-id-4 div.sk-estimator:hover {background-color: #d4ebff;}#sk-container-id-4 div.sk-parallel-item::after {content: \"\";width: 100%;border-bottom: 1px solid gray;flex-grow: 1;}#sk-container-id-4 div.sk-label:hover label.sk-toggleable__label {background-color: #d4ebff;}#sk-container-id-4 div.sk-serial::before {content: \"\";position: absolute;border-left: 1px solid gray;box-sizing: border-box;top: 0;bottom: 0;left: 50%;z-index: 0;}#sk-container-id-4 div.sk-serial {display: flex;flex-direction: column;align-items: center;background-color: white;padding-right: 0.2em;padding-left: 0.2em;position: relative;}#sk-container-id-4 div.sk-item {position: relative;z-index: 1;}#sk-container-id-4 div.sk-parallel {display: flex;align-items: stretch;justify-content: center;background-color: white;position: relative;}#sk-container-id-4 div.sk-item::before, #sk-container-id-4 div.sk-parallel-item::before {content: \"\";position: absolute;border-left: 1px solid gray;box-sizing: border-box;top: 0;bottom: 0;left: 50%;z-index: -1;}#sk-container-id-4 div.sk-parallel-item {display: flex;flex-direction: column;z-index: 1;position: relative;background-color: white;}#sk-container-id-4 div.sk-parallel-item:first-child::after {align-self: flex-end;width: 50%;}#sk-container-id-4 div.sk-parallel-item:last-child::after {align-self: flex-start;width: 50%;}#sk-container-id-4 div.sk-parallel-item:only-child::after {width: 0;}#sk-container-id-4 div.sk-dashed-wrapped {border: 1px dashed gray;margin: 0 0.4em 0.5em 0.4em;box-sizing: border-box;padding-bottom: 0.4em;background-color: white;}#sk-container-id-4 div.sk-label label {font-family: monospace;font-weight: bold;display: inline-block;line-height: 1.2em;}#sk-container-id-4 div.sk-label-container {text-align: center;}#sk-container-id-4 div.sk-container {/* jupyter's `normalize.less` sets `[hidden] { display: none; }` but bootstrap.min.css set `[hidden] { display: none !important; }` so we also need the `!important` here to be able to override the default hidden behavior on the sphinx rendered scikit-learn.org. See: https://github.com/scikit-learn/scikit-learn/issues/21755 */display: inline-block !important;position: relative;}#sk-container-id-4 div.sk-text-repr-fallback {display: none;}</style><div id=\"sk-container-id-4\" class=\"sk-top-container\"><div class=\"sk-text-repr-fallback\"><pre>GaussianNB()</pre><b>In a Jupyter environment, please rerun this cell to show the HTML representation or trust the notebook. <br />On GitHub, the HTML representation is unable to render, please try loading this page with nbviewer.org.</b></div><div class=\"sk-container\" hidden><div class=\"sk-item\"><div class=\"sk-estimator sk-toggleable\"><input class=\"sk-toggleable__control sk-hidden--visually\" id=\"sk-estimator-id-4\" type=\"checkbox\" checked><label for=\"sk-estimator-id-4\" class=\"sk-toggleable__label sk-toggleable__label-arrow\">GaussianNB</label><div class=\"sk-toggleable__content\"><pre>GaussianNB()</pre></div></div></div></div></div>"
      ],
      "text/plain": [
       "GaussianNB()"
      ]
     },
     "execution_count": 61,
     "metadata": {},
     "output_type": "execute_result"
    }
   ],
   "source": [
    "gnb_classifier.fit(X_train, y_train)"
   ]
  },
  {
   "cell_type": "code",
   "execution_count": 62,
   "id": "659dae71",
   "metadata": {},
   "outputs": [],
   "source": [
    "ypred = gnb_classifier.predict(X_test)"
   ]
  },
  {
   "cell_type": "code",
   "execution_count": 63,
   "id": "e3f94c96",
   "metadata": {},
   "outputs": [],
   "source": [
    "cs4 = ClassificationSummary(y_test,ypred)"
   ]
  },
  {
   "cell_type": "code",
   "execution_count": 64,
   "id": "4019ffac",
   "metadata": {},
   "outputs": [
    {
     "data": {
      "text/plain": [
       "Confusion Matrix:\n",
       "[[104   1]\n",
       " [  1  65]]\n",
       "Accuracy: 98.83%\n",
       "Missclassification Error: 1.17%\n",
       "Sensitivity: 98.48%\n",
       "Specificity: 99.05%\n",
       "Recall Score: 98.48%\n",
       "Precision Score: 98.48%"
      ]
     },
     "execution_count": 64,
     "metadata": {},
     "output_type": "execute_result"
    }
   ],
   "source": [
    "cs4"
   ]
  },
  {
   "cell_type": "markdown",
   "id": "664248d4",
   "metadata": {},
   "source": [
    "# Gaussian Naive Bayes - Cross Validation"
   ]
  },
  {
   "cell_type": "code",
   "execution_count": 65,
   "id": "d3c2bd10",
   "metadata": {},
   "outputs": [],
   "source": [
    "gnb_classifier2 = GaussianNB()"
   ]
  },
  {
   "cell_type": "code",
   "execution_count": 66,
   "id": "88089216",
   "metadata": {},
   "outputs": [],
   "source": [
    "cv = cross_val_score(gnb_classifier2,X_train,y_train)"
   ]
  },
  {
   "cell_type": "code",
   "execution_count": 67,
   "id": "3e235b03",
   "metadata": {},
   "outputs": [],
   "source": [
    "ACC = cv.mean()"
   ]
  },
  {
   "cell_type": "code",
   "execution_count": 68,
   "id": "7c0e097e",
   "metadata": {},
   "outputs": [],
   "source": [
    "EER = 1 - ACC"
   ]
  },
  {
   "cell_type": "code",
   "execution_count": 69,
   "id": "4e3d5bd2",
   "metadata": {},
   "outputs": [
    {
     "data": {
      "text/plain": [
       "0.04494574528840656"
      ]
     },
     "execution_count": 69,
     "metadata": {},
     "output_type": "execute_result"
    }
   ],
   "source": [
    "EER"
   ]
  },
  {
   "cell_type": "code",
   "execution_count": 70,
   "id": "62cefaf5",
   "metadata": {},
   "outputs": [
    {
     "name": "stdout",
     "output_type": "stream",
     "text": [
      "GNB - Cross Validation: 95.51%\n"
     ]
    }
   ],
   "source": [
    "print(\"GNB - Cross Validation: {}%\".format(r2(ACC)))"
   ]
  },
  {
   "cell_type": "code",
   "execution_count": 71,
   "id": "5969c918",
   "metadata": {},
   "outputs": [
    {
     "name": "stdout",
     "output_type": "stream",
     "text": [
      "GNB - Cross Validation - Missclassification Error: 4.49%\n"
     ]
    }
   ],
   "source": [
    "print(\"GNB - Cross Validation - Missclassification Error: {}%\".format(r2(EER)))"
   ]
  },
  {
   "cell_type": "markdown",
   "id": "5d1ae9da",
   "metadata": {},
   "source": [
    "# Bernoulli Naive Bayes"
   ]
  },
  {
   "cell_type": "code",
   "execution_count": 72,
   "id": "2583ac31",
   "metadata": {},
   "outputs": [],
   "source": [
    "bnb_classifier = BernoulliNB()"
   ]
  },
  {
   "cell_type": "code",
   "execution_count": 73,
   "id": "38fd3f93",
   "metadata": {},
   "outputs": [
    {
     "data": {
      "text/html": [
       "<style>#sk-container-id-5 {color: black;background-color: white;}#sk-container-id-5 pre{padding: 0;}#sk-container-id-5 div.sk-toggleable {background-color: white;}#sk-container-id-5 label.sk-toggleable__label {cursor: pointer;display: block;width: 100%;margin-bottom: 0;padding: 0.3em;box-sizing: border-box;text-align: center;}#sk-container-id-5 label.sk-toggleable__label-arrow:before {content: \"▸\";float: left;margin-right: 0.25em;color: #696969;}#sk-container-id-5 label.sk-toggleable__label-arrow:hover:before {color: black;}#sk-container-id-5 div.sk-estimator:hover label.sk-toggleable__label-arrow:before {color: black;}#sk-container-id-5 div.sk-toggleable__content {max-height: 0;max-width: 0;overflow: hidden;text-align: left;background-color: #f0f8ff;}#sk-container-id-5 div.sk-toggleable__content pre {margin: 0.2em;color: black;border-radius: 0.25em;background-color: #f0f8ff;}#sk-container-id-5 input.sk-toggleable__control:checked~div.sk-toggleable__content {max-height: 200px;max-width: 100%;overflow: auto;}#sk-container-id-5 input.sk-toggleable__control:checked~label.sk-toggleable__label-arrow:before {content: \"▾\";}#sk-container-id-5 div.sk-estimator input.sk-toggleable__control:checked~label.sk-toggleable__label {background-color: #d4ebff;}#sk-container-id-5 div.sk-label input.sk-toggleable__control:checked~label.sk-toggleable__label {background-color: #d4ebff;}#sk-container-id-5 input.sk-hidden--visually {border: 0;clip: rect(1px 1px 1px 1px);clip: rect(1px, 1px, 1px, 1px);height: 1px;margin: -1px;overflow: hidden;padding: 0;position: absolute;width: 1px;}#sk-container-id-5 div.sk-estimator {font-family: monospace;background-color: #f0f8ff;border: 1px dotted black;border-radius: 0.25em;box-sizing: border-box;margin-bottom: 0.5em;}#sk-container-id-5 div.sk-estimator:hover {background-color: #d4ebff;}#sk-container-id-5 div.sk-parallel-item::after {content: \"\";width: 100%;border-bottom: 1px solid gray;flex-grow: 1;}#sk-container-id-5 div.sk-label:hover label.sk-toggleable__label {background-color: #d4ebff;}#sk-container-id-5 div.sk-serial::before {content: \"\";position: absolute;border-left: 1px solid gray;box-sizing: border-box;top: 0;bottom: 0;left: 50%;z-index: 0;}#sk-container-id-5 div.sk-serial {display: flex;flex-direction: column;align-items: center;background-color: white;padding-right: 0.2em;padding-left: 0.2em;position: relative;}#sk-container-id-5 div.sk-item {position: relative;z-index: 1;}#sk-container-id-5 div.sk-parallel {display: flex;align-items: stretch;justify-content: center;background-color: white;position: relative;}#sk-container-id-5 div.sk-item::before, #sk-container-id-5 div.sk-parallel-item::before {content: \"\";position: absolute;border-left: 1px solid gray;box-sizing: border-box;top: 0;bottom: 0;left: 50%;z-index: -1;}#sk-container-id-5 div.sk-parallel-item {display: flex;flex-direction: column;z-index: 1;position: relative;background-color: white;}#sk-container-id-5 div.sk-parallel-item:first-child::after {align-self: flex-end;width: 50%;}#sk-container-id-5 div.sk-parallel-item:last-child::after {align-self: flex-start;width: 50%;}#sk-container-id-5 div.sk-parallel-item:only-child::after {width: 0;}#sk-container-id-5 div.sk-dashed-wrapped {border: 1px dashed gray;margin: 0 0.4em 0.5em 0.4em;box-sizing: border-box;padding-bottom: 0.4em;background-color: white;}#sk-container-id-5 div.sk-label label {font-family: monospace;font-weight: bold;display: inline-block;line-height: 1.2em;}#sk-container-id-5 div.sk-label-container {text-align: center;}#sk-container-id-5 div.sk-container {/* jupyter's `normalize.less` sets `[hidden] { display: none; }` but bootstrap.min.css set `[hidden] { display: none !important; }` so we also need the `!important` here to be able to override the default hidden behavior on the sphinx rendered scikit-learn.org. See: https://github.com/scikit-learn/scikit-learn/issues/21755 */display: inline-block !important;position: relative;}#sk-container-id-5 div.sk-text-repr-fallback {display: none;}</style><div id=\"sk-container-id-5\" class=\"sk-top-container\"><div class=\"sk-text-repr-fallback\"><pre>BernoulliNB()</pre><b>In a Jupyter environment, please rerun this cell to show the HTML representation or trust the notebook. <br />On GitHub, the HTML representation is unable to render, please try loading this page with nbviewer.org.</b></div><div class=\"sk-container\" hidden><div class=\"sk-item\"><div class=\"sk-estimator sk-toggleable\"><input class=\"sk-toggleable__control sk-hidden--visually\" id=\"sk-estimator-id-5\" type=\"checkbox\" checked><label for=\"sk-estimator-id-5\" class=\"sk-toggleable__label sk-toggleable__label-arrow\">BernoulliNB</label><div class=\"sk-toggleable__content\"><pre>BernoulliNB()</pre></div></div></div></div></div>"
      ],
      "text/plain": [
       "BernoulliNB()"
      ]
     },
     "execution_count": 73,
     "metadata": {},
     "output_type": "execute_result"
    }
   ],
   "source": [
    "bnb_classifier.fit(X_train,y_train)"
   ]
  },
  {
   "cell_type": "code",
   "execution_count": 74,
   "id": "d0d720f4",
   "metadata": {},
   "outputs": [],
   "source": [
    "ypred = bnb_classifier.predict(X_test)"
   ]
  },
  {
   "cell_type": "code",
   "execution_count": 75,
   "id": "da4b73db",
   "metadata": {},
   "outputs": [],
   "source": [
    "cs5 = ClassificationSummary(y_test,ypred)"
   ]
  },
  {
   "cell_type": "code",
   "execution_count": 76,
   "id": "fe6dc61e",
   "metadata": {},
   "outputs": [
    {
     "data": {
      "text/plain": [
       "Confusion Matrix:\n",
       "[[105   0]\n",
       " [ 66   0]]\n",
       "Accuracy: 61.4%\n",
       "Missclassification Error: 38.6%\n",
       "Sensitivity: 0.0%\n",
       "Specificity: 100.0%\n",
       "Recall Score: 0.0%\n",
       "Precision Score: 0.0%"
      ]
     },
     "execution_count": 76,
     "metadata": {},
     "output_type": "execute_result"
    }
   ],
   "source": [
    "cs5"
   ]
  }
 ],
 "metadata": {
  "interpreter": {
   "hash": "cd78fef2128015050713e82ca51c6520b11aee7c9ee8df750520bbbc7384cbaa"
  },
  "kernelspec": {
   "display_name": "Python 3",
   "language": "python",
   "name": "python3"
  },
  "language_info": {
   "codemirror_mode": {
    "name": "ipython",
    "version": 3
   },
   "file_extension": ".py",
   "mimetype": "text/x-python",
   "name": "python",
   "nbconvert_exporter": "python",
   "pygments_lexer": "ipython3",
   "version": "3.8.8"
  }
 },
 "nbformat": 4,
 "nbformat_minor": 5
}
